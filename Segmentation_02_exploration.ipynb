{
 "cells": [
  {
   "cell_type": "markdown",
   "id": "f9cee19e-3ba5-4559-ae94-e19e362d174c",
   "metadata": {
    "tags": []
   },
   "source": [
    "# Quail segmentation and feature extraction exploration #\n",
    "\n",
    "*9 January 2023*\n",
    "\n",
    "Based on `Segmentation_01.ipyb` from co-coding with Robert Haase last week.\n",
    "\n",
    "I'd like the full workflow in Jupyter; then add exploration with other background de-noising or sklearn Random Forest Segmentation."
   ]
  },
  {
   "cell_type": "markdown",
   "id": "0e3e11d6-d14e-46dc-8d6b-cad196f08d17",
   "metadata": {},
   "source": [
    "## Import tools ##"
   ]
  },
  {
   "cell_type": "code",
   "execution_count": 1,
   "id": "ff4653d1-9e02-4f7c-87b3-570cd76ac738",
   "metadata": {
    "execution": {
     "iopub.execute_input": "2023-01-09T18:51:52.988501Z",
     "iopub.status.busy": "2023-01-09T18:51:52.988188Z",
     "iopub.status.idle": "2023-01-09T18:51:57.887678Z",
     "shell.execute_reply": "2023-01-09T18:51:57.886867Z",
     "shell.execute_reply.started": "2023-01-09T18:51:52.988476Z"
    },
    "tags": []
   },
   "outputs": [],
   "source": [
    "import napari\n",
    "import napari_segment_blobs_and_things_with_membranes as nsbatwm  # version 0.3.3\n",
    "import napari_crop\n",
    "import pyclesperanto_prototype as cle  # version 0.21.2\n",
    "import pandas as pd\n",
    "\n",
    "from napari_simpleitk_image_processing import label_statistics\n",
    "from skimage.io import imread, imsave\n",
    "\n",
    "import napari_skimage_regionprops as nsr\n",
    "\n",
    "from sklearn.preprocessing import StandardScaler\n",
    "import seaborn\n",
    "import stackview"
   ]
  },
  {
   "cell_type": "markdown",
   "id": "6aea770b-616d-4130-b39e-0c9e90080ef7",
   "metadata": {},
   "source": [
    "## Set filenames ##"
   ]
  },
  {
   "cell_type": "code",
   "execution_count": 2,
   "id": "63be4dc8-8e3f-47a3-b0f7-e1626d387bdc",
   "metadata": {
    "execution": {
     "iopub.execute_input": "2023-01-09T18:51:57.890348Z",
     "iopub.status.busy": "2023-01-09T18:51:57.889730Z",
     "iopub.status.idle": "2023-01-09T18:51:57.893916Z",
     "shell.execute_reply": "2023-01-09T18:51:57.893167Z",
     "shell.execute_reply.started": "2023-01-09T18:51:57.890322Z"
    },
    "tags": []
   },
   "outputs": [],
   "source": [
    "source_stack          = '/Volumes/Quail/Quail/220214_highresnode/220214_63x_node_scan_121t_11x11y_MERGED_rotated.tif'\n",
    "cropped_node_file     = 'data/220214_cropped_node.tif'\n",
    "cropped_non_node_file = 'data/220214_cropped_non_node.tif'"
   ]
  },
  {
   "cell_type": "markdown",
   "id": "e6bca399-f107-4b5d-a663-dce264b5942d",
   "metadata": {},
   "source": [
    "## Open viewer ##"
   ]
  },
  {
   "cell_type": "code",
   "execution_count": 3,
   "id": "4b398f0e-dd13-4e50-bd20-d4818c13cd96",
   "metadata": {
    "execution": {
     "iopub.execute_input": "2023-01-09T18:51:57.895279Z",
     "iopub.status.busy": "2023-01-09T18:51:57.895017Z",
     "iopub.status.idle": "2023-01-09T18:52:02.475381Z",
     "shell.execute_reply": "2023-01-09T18:52:02.474853Z",
     "shell.execute_reply.started": "2023-01-09T18:51:57.895258Z"
    },
    "tags": []
   },
   "outputs": [],
   "source": [
    "viewer = napari.Viewer()"
   ]
  },
  {
   "cell_type": "markdown",
   "id": "8323266c-3ec6-4ca6-86e3-06bd2d8688bd",
   "metadata": {},
   "source": [
    "## Add source stack ##"
   ]
  },
  {
   "cell_type": "code",
   "execution_count": 4,
   "id": "f5d0fa71-5490-4fb2-b973-e13da45c093b",
   "metadata": {
    "execution": {
     "iopub.execute_input": "2023-01-09T18:52:02.476477Z",
     "iopub.status.busy": "2023-01-09T18:52:02.476143Z",
     "iopub.status.idle": "2023-01-09T18:52:42.688142Z",
     "shell.execute_reply": "2023-01-09T18:52:42.687563Z",
     "shell.execute_reply.started": "2023-01-09T18:52:02.476458Z"
    },
    "tags": []
   },
   "outputs": [],
   "source": [
    "# viewer.open('/Volumes/Quail/Quail/220214_highresnode/220214_63x_node_scan_121t_11x11y_MERGED_rotated.tif')\n",
    "highres_node = imread(source_stack)"
   ]
  },
  {
   "cell_type": "code",
   "execution_count": 5,
   "id": "909afe6e-29b6-41f0-847b-59c0d68cbdc9",
   "metadata": {
    "execution": {
     "iopub.execute_input": "2023-01-09T18:52:42.689002Z",
     "iopub.status.busy": "2023-01-09T18:52:42.688831Z",
     "iopub.status.idle": "2023-01-09T18:52:43.279296Z",
     "shell.execute_reply": "2023-01-09T18:52:43.278577Z",
     "shell.execute_reply.started": "2023-01-09T18:52:42.688985Z"
    }
   },
   "outputs": [
    {
     "data": {
      "text/plain": [
       "<Image layer 'highres_node' at 0x192feb100>"
      ]
     },
     "execution_count": 5,
     "metadata": {},
     "output_type": "execute_result"
    }
   ],
   "source": [
    "viewer.add_image(\n",
    "    highres_node,\n",
    "    colormap='gray_r'\n",
    ")"
   ]
  },
  {
   "cell_type": "markdown",
   "id": "bd0a5d14-3210-428a-9ad7-5d6c4ee4ea4c",
   "metadata": {},
   "source": [
    "## Define crop regions ##\n",
    "\n",
    "One in Henson's node, the other in the periphery of the tissue."
   ]
  },
  {
   "cell_type": "code",
   "execution_count": 6,
   "id": "61383873-8eef-4441-9062-1ca6f460f2e6",
   "metadata": {
    "execution": {
     "iopub.execute_input": "2023-01-09T18:52:43.280880Z",
     "iopub.status.busy": "2023-01-09T18:52:43.280450Z",
     "iopub.status.idle": "2023-01-09T18:52:43.284956Z",
     "shell.execute_reply": "2023-01-09T18:52:43.284106Z",
     "shell.execute_reply.started": "2023-01-09T18:52:43.280858Z"
    },
    "tags": []
   },
   "outputs": [],
   "source": [
    "node_crop_region = [\n",
    "    [100, 6359.53378526, 6166.86457369],\n",
    "    [100, 6359.53378526, 8045.70961167],\n",
    "    [100, 8238.37882323, 8045.70961167],\n",
    "    [100, 8238.37882323, 6166.86457369]\n",
    "]"
   ]
  },
  {
   "cell_type": "code",
   "execution_count": 7,
   "id": "d19b82df-3633-4bf7-9618-f19f442d0239",
   "metadata": {
    "execution": {
     "iopub.execute_input": "2023-01-09T18:52:43.289908Z",
     "iopub.status.busy": "2023-01-09T18:52:43.289583Z",
     "iopub.status.idle": "2023-01-09T18:52:43.293990Z",
     "shell.execute_reply": "2023-01-09T18:52:43.293195Z",
     "shell.execute_reply.started": "2023-01-09T18:52:43.289882Z"
    }
   },
   "outputs": [],
   "source": [
    "non_node_crop_region = [\n",
    "    [   67.        ,  6606.34456304, 10653.08839096],\n",
    "    [   67.        ,  6606.34456304, 12536.25288005],\n",
    "    [   67.        ,  8489.50905213, 12536.25288005],\n",
    "    [   67.        ,  8489.50905213, 10653.08839096]\n",
    "]"
   ]
  },
  {
   "cell_type": "code",
   "execution_count": 8,
   "id": "3fc55a0f-2764-466f-bd38-25cd627b04d4",
   "metadata": {
    "execution": {
     "iopub.execute_input": "2023-01-09T18:52:43.295453Z",
     "iopub.status.busy": "2023-01-09T18:52:43.294973Z",
     "iopub.status.idle": "2023-01-09T18:52:43.390146Z",
     "shell.execute_reply": "2023-01-09T18:52:43.389331Z",
     "shell.execute_reply.started": "2023-01-09T18:52:43.295428Z"
    },
    "tags": []
   },
   "outputs": [
    {
     "data": {
      "text/plain": [
       "<Shapes layer 'node_crop_region' at 0x1930d5820>"
      ]
     },
     "execution_count": 8,
     "metadata": {},
     "output_type": "execute_result"
    }
   ],
   "source": [
    "viewer.add_shapes(\n",
    "    node_crop_region,\n",
    "    name='node_crop_region',\n",
    "    opacity=0.5,\n",
    "    ndim=3,\n",
    ")"
   ]
  },
  {
   "cell_type": "code",
   "execution_count": 9,
   "id": "022fb72d-4202-4459-b5a7-c007d932de4f",
   "metadata": {
    "execution": {
     "iopub.execute_input": "2023-01-09T18:52:43.391679Z",
     "iopub.status.busy": "2023-01-09T18:52:43.391363Z",
     "iopub.status.idle": "2023-01-09T18:52:43.475281Z",
     "shell.execute_reply": "2023-01-09T18:52:43.474470Z",
     "shell.execute_reply.started": "2023-01-09T18:52:43.391653Z"
    }
   },
   "outputs": [
    {
     "data": {
      "text/plain": [
       "<Shapes layer 'non_node_crop_region' at 0x1930d5640>"
      ]
     },
     "execution_count": 9,
     "metadata": {},
     "output_type": "execute_result"
    }
   ],
   "source": [
    "viewer.add_shapes(\n",
    "    non_node_crop_region,\n",
    "    name='non_node_crop_region',\n",
    "    opacity=0.5,\n",
    "    ndim=3,\n",
    ")"
   ]
  },
  {
   "cell_type": "code",
   "execution_count": 10,
   "id": "884a2087-295f-4ab0-96be-95d5ec94c543",
   "metadata": {
    "execution": {
     "iopub.execute_input": "2023-01-09T18:52:43.476803Z",
     "iopub.status.busy": "2023-01-09T18:52:43.476430Z",
     "iopub.status.idle": "2023-01-09T18:52:43.481700Z",
     "shell.execute_reply": "2023-01-09T18:52:43.480849Z",
     "shell.execute_reply.started": "2023-01-09T18:52:43.476781Z"
    },
    "tags": []
   },
   "outputs": [
    {
     "data": {
      "text/plain": [
       "[<Image layer 'highres_node' at 0x192feb100>, <Shapes layer 'node_crop_region' at 0x1930d5820>, <Shapes layer 'non_node_crop_region' at 0x1930d5640>]"
      ]
     },
     "execution_count": 10,
     "metadata": {},
     "output_type": "execute_result"
    }
   ],
   "source": [
    "viewer.layers"
   ]
  },
  {
   "cell_type": "markdown",
   "id": "982ee204-6088-43e3-a6da-a271be829139",
   "metadata": {},
   "source": [
    "## Crop ##\n",
    "\n",
    "Uses napari_crop plugin."
   ]
  },
  {
   "cell_type": "code",
   "execution_count": 11,
   "id": "e1d6cc5b-d501-4abc-91a1-89df94ac1488",
   "metadata": {
    "execution": {
     "iopub.execute_input": "2023-01-09T18:52:43.483191Z",
     "iopub.status.busy": "2023-01-09T18:52:43.482677Z",
     "iopub.status.idle": "2023-01-09T18:52:55.981837Z",
     "shell.execute_reply": "2023-01-09T18:52:55.979730Z",
     "shell.execute_reply.started": "2023-01-09T18:52:43.483167Z"
    },
    "tags": []
   },
   "outputs": [
    {
     "data": {
      "text/plain": [
       "(201, 1879, 1880)"
      ]
     },
     "execution_count": 11,
     "metadata": {},
     "output_type": "execute_result"
    }
   ],
   "source": [
    "cropped_node = napari_crop.crop_region(layer=viewer.layers[0], shapes_layer=viewer.layers[1])[0][0] # cropped node returnds a list of [(data, metadata_dictionary)] tuples for each shape\n",
    "cropped_node.shape"
   ]
  },
  {
   "cell_type": "code",
   "execution_count": 12,
   "id": "c97c6813-9cd3-446a-bd6f-6a41b40e398f",
   "metadata": {
    "execution": {
     "iopub.execute_input": "2023-01-09T18:52:55.985553Z",
     "iopub.status.busy": "2023-01-09T18:52:55.984902Z",
     "iopub.status.idle": "2023-01-09T18:53:01.459603Z",
     "shell.execute_reply": "2023-01-09T18:53:01.458694Z",
     "shell.execute_reply.started": "2023-01-09T18:52:55.985525Z"
    },
    "tags": []
   },
   "outputs": [
    {
     "data": {
      "text/plain": [
       "(201, 1885, 1884)"
      ]
     },
     "execution_count": 12,
     "metadata": {},
     "output_type": "execute_result"
    }
   ],
   "source": [
    "cropped_non_node = napari_crop.crop_region(layer=viewer.layers[0], shapes_layer=viewer.layers[2])[0][0] # cropped node returnds a list of [(data, metadata_dictionary)] tuples for each shape\n",
    "cropped_non_node.shape"
   ]
  },
  {
   "cell_type": "markdown",
   "id": "a4d0dcd7-2970-4140-a7da-9352d58d2544",
   "metadata": {},
   "source": [
    "## View cropped regions ##"
   ]
  },
  {
   "cell_type": "code",
   "execution_count": 13,
   "id": "c73b824a-bc28-45dd-821d-dda3c732dba0",
   "metadata": {
    "execution": {
     "iopub.execute_input": "2023-01-09T18:53:01.461075Z",
     "iopub.status.busy": "2023-01-09T18:53:01.460619Z",
     "iopub.status.idle": "2023-01-09T18:53:01.594482Z",
     "shell.execute_reply": "2023-01-09T18:53:01.593591Z",
     "shell.execute_reply.started": "2023-01-09T18:53:01.461037Z"
    },
    "tags": []
   },
   "outputs": [
    {
     "data": {
      "text/plain": [
       "<Image layer 'cropped_node' at 0x1ad2cbdc0>"
      ]
     },
     "execution_count": 13,
     "metadata": {},
     "output_type": "execute_result"
    }
   ],
   "source": [
    "viewer.add_image(\n",
    "    cropped_node,\n",
    "    colormap='gray_r'\n",
    ")"
   ]
  },
  {
   "cell_type": "code",
   "execution_count": 14,
   "id": "f3793614-d660-4e1d-b64d-191815313d75",
   "metadata": {
    "execution": {
     "iopub.execute_input": "2023-01-09T18:53:01.598737Z",
     "iopub.status.busy": "2023-01-09T18:53:01.598340Z",
     "iopub.status.idle": "2023-01-09T18:53:01.981932Z",
     "shell.execute_reply": "2023-01-09T18:53:01.980958Z",
     "shell.execute_reply.started": "2023-01-09T18:53:01.598712Z"
    }
   },
   "outputs": [
    {
     "data": {
      "text/plain": [
       "<Image layer 'cropped_non_node' at 0x1ad19a0d0>"
      ]
     },
     "execution_count": 14,
     "metadata": {},
     "output_type": "execute_result"
    }
   ],
   "source": [
    "viewer.add_image(\n",
    "    cropped_non_node,\n",
    "    colormap='gray_r'\n",
    ")"
   ]
  },
  {
   "cell_type": "markdown",
   "id": "790da6ee-f16c-400d-8d57-0f8eb368b956",
   "metadata": {},
   "source": [
    "## Save cropped regions ##"
   ]
  },
  {
   "cell_type": "code",
   "execution_count": 15,
   "id": "66347d85-4119-40c4-b342-bdcfd9b26595",
   "metadata": {
    "execution": {
     "iopub.execute_input": "2023-01-09T18:53:01.983585Z",
     "iopub.status.busy": "2023-01-09T18:53:01.983219Z",
     "iopub.status.idle": "2023-01-09T18:53:09.398994Z",
     "shell.execute_reply": "2023-01-09T18:53:09.398206Z",
     "shell.execute_reply.started": "2023-01-09T18:53:01.983557Z"
    },
    "tags": []
   },
   "outputs": [],
   "source": [
    "imsave(cropped_node_file, cropped_node, plugin='tifffile')"
   ]
  },
  {
   "cell_type": "code",
   "execution_count": 16,
   "id": "392518f2-fefc-4c60-a9c1-cb8c5984f36f",
   "metadata": {
    "execution": {
     "iopub.execute_input": "2023-01-09T18:53:09.400538Z",
     "iopub.status.busy": "2023-01-09T18:53:09.400040Z",
     "iopub.status.idle": "2023-01-09T18:53:15.775439Z",
     "shell.execute_reply": "2023-01-09T18:53:15.774681Z",
     "shell.execute_reply.started": "2023-01-09T18:53:09.400482Z"
    }
   },
   "outputs": [],
   "source": [
    "imsave(cropped_non_node_file, cropped_non_node, plugin='tifffile')"
   ]
  },
  {
   "cell_type": "markdown",
   "id": "be318747-b23c-41f5-8ee3-3230ada9f72a",
   "metadata": {},
   "source": [
    "## Close unneeded layers ##\n",
    "\n",
    "Free up memory."
   ]
  },
  {
   "cell_type": "code",
   "execution_count": 17,
   "id": "ebf47ad4-ab0d-4019-9f21-3eee9e551a14",
   "metadata": {
    "execution": {
     "iopub.execute_input": "2023-01-09T18:53:15.777235Z",
     "iopub.status.busy": "2023-01-09T18:53:15.776869Z",
     "iopub.status.idle": "2023-01-09T18:53:15.795844Z",
     "shell.execute_reply": "2023-01-09T18:53:15.794242Z",
     "shell.execute_reply.started": "2023-01-09T18:53:15.777212Z"
    }
   },
   "outputs": [],
   "source": [
    "viewer.layers.remove('highres_node')"
   ]
  },
  {
   "cell_type": "code",
   "execution_count": 18,
   "id": "08d193da-f9d3-4fef-95f9-9c4fbd78923d",
   "metadata": {
    "execution": {
     "iopub.execute_input": "2023-01-09T18:53:15.799507Z",
     "iopub.status.busy": "2023-01-09T18:53:15.798112Z",
     "iopub.status.idle": "2023-01-09T18:53:15.815368Z",
     "shell.execute_reply": "2023-01-09T18:53:15.814284Z",
     "shell.execute_reply.started": "2023-01-09T18:53:15.799454Z"
    },
    "tags": []
   },
   "outputs": [],
   "source": [
    "viewer.layers.remove('node_crop_region')"
   ]
  },
  {
   "cell_type": "code",
   "execution_count": 19,
   "id": "8c1e137d-f754-406d-91c4-0038b1a66e8c",
   "metadata": {
    "execution": {
     "iopub.execute_input": "2023-01-09T18:53:15.817708Z",
     "iopub.status.busy": "2023-01-09T18:53:15.817254Z",
     "iopub.status.idle": "2023-01-09T18:53:15.869542Z",
     "shell.execute_reply": "2023-01-09T18:53:15.868353Z",
     "shell.execute_reply.started": "2023-01-09T18:53:15.817672Z"
    },
    "tags": []
   },
   "outputs": [],
   "source": [
    "viewer.layers.remove('non_node_crop_region')"
   ]
  },
  {
   "cell_type": "code",
   "execution_count": 20,
   "id": "d1045687-0741-4abb-887c-de44ca4583f2",
   "metadata": {
    "execution": {
     "iopub.execute_input": "2023-01-09T18:53:15.872054Z",
     "iopub.status.busy": "2023-01-09T18:53:15.871521Z",
     "iopub.status.idle": "2023-01-09T18:53:15.885985Z",
     "shell.execute_reply": "2023-01-09T18:53:15.884764Z",
     "shell.execute_reply.started": "2023-01-09T18:53:15.872016Z"
    },
    "tags": []
   },
   "outputs": [],
   "source": [
    "viewer.layers.remove('cropped_node')"
   ]
  },
  {
   "cell_type": "code",
   "execution_count": 21,
   "id": "2757bb87-a82e-4c75-9ec4-283a002260e0",
   "metadata": {
    "execution": {
     "iopub.execute_input": "2023-01-09T18:53:15.888072Z",
     "iopub.status.busy": "2023-01-09T18:53:15.887333Z",
     "iopub.status.idle": "2023-01-09T18:53:15.933251Z",
     "shell.execute_reply": "2023-01-09T18:53:15.931914Z",
     "shell.execute_reply.started": "2023-01-09T18:53:15.888027Z"
    }
   },
   "outputs": [],
   "source": [
    "viewer.layers.remove('cropped_non_node')"
   ]
  },
  {
   "cell_type": "markdown",
   "id": "9da84312-eb98-4e93-9acc-b193092e7e96",
   "metadata": {
    "tags": []
   },
   "source": [
    "## Scale 3D data ##\n",
    "\n",
    "Allows exploration on local mac (M1 or Intel)"
   ]
  },
  {
   "cell_type": "code",
   "execution_count": 22,
   "id": "40dc3917-b0d4-48a7-be95-606c003a6bd9",
   "metadata": {
    "execution": {
     "iopub.execute_input": "2023-01-09T18:53:16.662320Z",
     "iopub.status.busy": "2023-01-09T18:53:16.661986Z",
     "iopub.status.idle": "2023-01-09T18:53:16.666348Z",
     "shell.execute_reply": "2023-01-09T18:53:16.665220Z",
     "shell.execute_reply.started": "2023-01-09T18:53:16.662296Z"
    },
    "tags": []
   },
   "outputs": [],
   "source": [
    "voxel_size_xy = 1\n",
    "voxel_size_z  = 5     # according to Adrian the pixels in this dataset are isotropic\n",
    "zoom          = 0.25 "
   ]
  },
  {
   "cell_type": "code",
   "execution_count": null,
   "id": "c523dd9a-3f4c-4af4-a94b-5201bf9140c4",
   "metadata": {
    "execution": {
     "iopub.execute_input": "2023-01-09T18:53:16.668459Z",
     "iopub.status.busy": "2023-01-09T18:53:16.668083Z"
    },
    "tags": []
   },
   "outputs": [],
   "source": [
    "cropped_node_scaled = (\n",
    "    cle.scale(\n",
    "        cropped_node, \n",
    "        factor_x=voxel_size_xy*zoom, \n",
    "        factor_y=voxel_size_xy*zoom, \n",
    "        factor_z=voxel_size_z*zoom, \n",
    "        auto_size=True,\n",
    "        # linear_interpolation=True # linear interpolation not supported on intel cpu\n",
    "    ) \n",
    ")\n",
    "cropped_node_scaled"
   ]
  },
  {
   "cell_type": "code",
   "execution_count": null,
   "id": "7fe74a88-a150-425c-82d5-626ab004bfa0",
   "metadata": {
    "tags": []
   },
   "outputs": [],
   "source": [
    "cropped_node_scaled_layer = (\n",
    "    viewer.add_image(\n",
    "        cropped_node_scaled, \n",
    "        colormap='gray_r',\n",
    "        interpolation3d='bicubic',\n",
    "        contrast_limits=[0,255],\n",
    "    )\n",
    ")"
   ]
  },
  {
   "cell_type": "markdown",
   "id": "91c3bb29-a4e8-45ff-93db-d150621f8ac4",
   "metadata": {},
   "source": [
    "## Local minima seeded watershed in 3D ##\n",
    "\n",
    "Uses 3D data.  Local minima are regions between membranes as seed.\n",
    "\n",
    "```\n",
    "Segment cells in images with fluorescently marked membranes.\n",
    "    The two sigma parameters allow tuning the segmentation result. The first sigma controls how close detected cells\n",
    "    can be (spot_sigma) and the second controls how precise segmented objects are outlined (outline_sigma). Under the\n",
    "    hood, this filter applies two Gaussian blurs, local minima detection and a seeded watershed.\n",
    "    See also\n",
    "    --------\n",
    "    .. [1] https://scikit-image.org/docs/dev/auto_examples/segmentation/plot_watershed.html\n",
    "```"
   ]
  },
  {
   "cell_type": "code",
   "execution_count": null,
   "id": "1f180d12-8cad-4a67-a11d-8f7d1bf83209",
   "metadata": {
    "tags": []
   },
   "outputs": [],
   "source": [
    "# Robert suggested 25 and 5 for the spot sigma and outline sigmas\n",
    "# By my eye, 30 and 10 are a bit better\n",
    "lmsw_3d = nsbatwm.local_minima_seeded_watershed(cropped_node_scaled, 30*zoom, 10.0*zoom)"
   ]
  },
  {
   "cell_type": "code",
   "execution_count": null,
   "id": "1cd95f28-b0fc-45a8-a961-ef8b74562df7",
   "metadata": {
    "tags": []
   },
   "outputs": [],
   "source": [
    "# lmsw_labels = viewer_3d.add_labels(lmsw_3d)"
   ]
  },
  {
   "cell_type": "code",
   "execution_count": null,
   "id": "3534105f-5b59-48e5-9a3f-65f5c49edfcb",
   "metadata": {
    "tags": []
   },
   "outputs": [],
   "source": [
    "# exclude labels on the edge of the stack\n",
    "exclude_labels_on_edges = cle.exclude_labels_on_edges(lmsw_3d)\n",
    "# viewer.add_labels(\n",
    "#     exclude_labels_on_edges, name='Result of exclude_labels_on_edges (clesperanto)')"
   ]
  },
  {
   "cell_type": "code",
   "execution_count": null,
   "id": "7d9db8a4-5d8e-446e-a608-71fc71feae1d",
   "metadata": {
    "tags": []
   },
   "outputs": [],
   "source": [
    "# exclude small labels\n",
    "exclude_small_labels = cle.exclude_small_labels(exclude_labels_on_edges, None, 100.0) # base small on zoom in future\n",
    "# viewer.add_labels(\n",
    "#     exclude_small_labels, name='Result of exclude_small_labels (clesperanto)')"
   ]
  },
  {
   "cell_type": "code",
   "execution_count": null,
   "id": "c2270827-171b-4f3f-9adc-10789d57fc70",
   "metadata": {
    "tags": []
   },
   "outputs": [],
   "source": [
    "labels_3d_layer = (\n",
    "    viewer.add_labels(\n",
    "        exclude_small_labels,\n",
    "        opacity=0.5,\n",
    "    )\n",
    ")"
   ]
  },
  {
   "cell_type": "markdown",
   "id": "44f7f156-5ac6-4649-9944-a06055cd723a",
   "metadata": {},
   "source": [
    "## Empirically vary watershed sigmas ##"
   ]
  },
  {
   "cell_type": "code",
   "execution_count": null,
   "id": "5e318faa-e3d4-4c56-98ce-edf7a87095be",
   "metadata": {
    "tags": []
   },
   "outputs": [],
   "source": [
    "spot_sigmas = [10, 20, 30, 40, 50]\n",
    "outline_sigmas = [5, 7, 10, 12]"
   ]
  },
  {
   "cell_type": "code",
   "execution_count": null,
   "id": "b1cb3f94-fbdc-4267-94cc-4b609cdaf461",
   "metadata": {
    "tags": []
   },
   "outputs": [],
   "source": [
    "for ss in spot_sigmas:\n",
    "    for os in outline_sigmas:\n",
    "        \n",
    "        lmsw_3d = nsbatwm.local_minima_seeded_watershed(cropped_node_scaled, ss*zoom, os*zoom)\n",
    "        exclude_labels_on_edges = cle.exclude_labels_on_edges(lmsw_3d)\n",
    "        exclude_small_labels = cle.exclude_small_labels(exclude_labels_on_edges, None, 100.0) # base small on zoom in future\n",
    "        viewer.add_labels(exclude_small_labels, name=f'spot{ss:02}_outline{os:02}', opacity=0.5)"
   ]
  },
  {
   "cell_type": "code",
   "execution_count": null,
   "id": "27959449-124f-42d6-b147-64434e699dc5",
   "metadata": {
    "tags": []
   },
   "outputs": [],
   "source": [
    "ss=10\n",
    "os =7\n",
    "f'spot{ss:02}_outline{os:02}'"
   ]
  },
  {
   "cell_type": "code",
   "execution_count": null,
   "id": "58ff26cb-c18f-41c0-b504-7ec8be8e73d8",
   "metadata": {
    "tags": []
   },
   "outputs": [],
   "source": [
    "# viewer.layers[0].name = 'highresnode'"
   ]
  },
  {
   "cell_type": "code",
   "execution_count": null,
   "id": "82bdb813-e6f3-4e2a-9d5b-8ddaa1e6e415",
   "metadata": {
    "tags": []
   },
   "outputs": [],
   "source": [
    "# viewer.add_shapes('crop')"
   ]
  },
  {
   "cell_type": "code",
   "execution_count": null,
   "id": "6586f732-e7cc-4dad-8715-cec9b9118894",
   "metadata": {
    "tags": []
   },
   "outputs": [],
   "source": [
    "# crop_data = viewer.layers[1].data\n",
    "# crop_data"
   ]
  },
  {
   "cell_type": "code",
   "execution_count": null,
   "id": "5ef78f88-c543-4b84-ba3f-b73ff176f33a",
   "metadata": {},
   "outputs": [],
   "source": []
  }
 ],
 "metadata": {
  "kernelspec": {
   "display_name": "Python 3 (ipykernel)",
   "language": "python",
   "name": "python3"
  },
  "language_info": {
   "codemirror_mode": {
    "name": "ipython",
    "version": 3
   },
   "file_extension": ".py",
   "mimetype": "text/x-python",
   "name": "python",
   "nbconvert_exporter": "python",
   "pygments_lexer": "ipython3",
   "version": "3.9.15"
  }
 },
 "nbformat": 4,
 "nbformat_minor": 5
}
