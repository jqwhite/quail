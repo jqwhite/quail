{
 "cells": [
  {
   "cell_type": "code",
   "execution_count": 15,
   "id": "3aa0f212-9267-44bc-83be-337cb3b021bd",
   "metadata": {},
   "outputs": [],
   "source": [
    "import napari\n",
    "from napari.utils import nbscreenshot\n",
    "import napari_crop"
   ]
  },
  {
   "cell_type": "code",
   "execution_count": 2,
   "id": "5aea3615-9bf3-48b2-b74b-43ef64d04def",
   "metadata": {},
   "outputs": [],
   "source": [
    "%gui qt"
   ]
  },
  {
   "cell_type": "code",
   "execution_count": 24,
   "id": "5a6e1930-0da6-4be0-8550-572e7a4e2f21",
   "metadata": {},
   "outputs": [],
   "source": [
    "viewer = napari.Viewer()"
   ]
  },
  {
   "cell_type": "code",
   "execution_count": 25,
   "id": "12d8df77-850d-4f4c-8d14-6f3145d17226",
   "metadata": {},
   "outputs": [],
   "source": [
    "viewer.open('node_crop.tif');"
   ]
  },
  {
   "cell_type": "code",
   "execution_count": 26,
   "id": "1a6974e5-6503-4fba-a823-9f0df12e64e7",
   "metadata": {},
   "outputs": [
    {
     "name": "stderr",
     "output_type": "stream",
     "text": [
      "/Users/jwhite/miniforge3/envs/napari/lib/python3.9/site-packages/napari_crop/_function.py:34: UserWarning: Please select an image or labels layer to crop.\n",
      "  warnings.warn(\"Please select an image or labels layer to crop.\")\n"
     ]
    }
   ],
   "source": [
    "napari_crop.crop_region(layer='node_crop', shapes_layer=\"crop\")"
   ]
  },
  {
   "cell_type": "code",
   "execution_count": null,
   "id": "fc2c41c4-51c8-4fa0-843e-2828630d8b98",
   "metadata": {},
   "outputs": [],
   "source": []
  }
 ],
 "metadata": {
  "kernelspec": {
   "display_name": "Python 3 (ipykernel)",
   "language": "python",
   "name": "python3"
  },
  "language_info": {
   "codemirror_mode": {
    "name": "ipython",
    "version": 3
   },
   "file_extension": ".py",
   "mimetype": "text/x-python",
   "name": "python",
   "nbconvert_exporter": "python",
   "pygments_lexer": "ipython3",
   "version": "3.9.15"
  }
 },
 "nbformat": 4,
 "nbformat_minor": 5
}
