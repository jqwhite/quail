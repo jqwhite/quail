{
 "cells": [
  {
   "cell_type": "markdown",
   "id": "f9cee19e-3ba5-4559-ae94-e19e362d174c",
   "metadata": {
    "tags": []
   },
   "source": [
    "# Quail segmentation and feature extraction exploration #\n",
    "\n",
    "*11 January 2023*\n",
    "\n",
    "Based on `Segmentation_01.ipyb` from co-coding with Robert Haase last week.\n",
    "\n",
    "<!-- I'd like the full workflow in Jupyter; then add exploration with other background de-noising or sklearn Random Forest Segmentation. -->\n",
    "\n",
    "Robert Haase advises small, modular notebooks. Splitting `Segmentation_02_exporation_m1.ipynb` into smaller units."
   ]
  },
  {
   "cell_type": "markdown",
   "id": "0e3e11d6-d14e-46dc-8d6b-cad196f08d17",
   "metadata": {},
   "source": [
    "## Import tools ##"
   ]
  },
  {
   "cell_type": "code",
   "execution_count": 1,
   "id": "ff4653d1-9e02-4f7c-87b3-570cd76ac738",
   "metadata": {
    "execution": {
     "iopub.execute_input": "2023-01-11T16:11:59.905949Z",
     "iopub.status.busy": "2023-01-11T16:11:59.905351Z",
     "iopub.status.idle": "2023-01-11T16:12:07.200870Z",
     "shell.execute_reply": "2023-01-11T16:12:07.199705Z",
     "shell.execute_reply.started": "2023-01-11T16:11:59.905815Z"
    },
    "tags": []
   },
   "outputs": [],
   "source": [
    "import napari\n",
    "import napari_segment_blobs_and_things_with_membranes as nsbatwm  # version 0.3.3\n",
    "import napari_crop\n",
    "import pyclesperanto_prototype as cle  # version 0.21.2\n",
    "import pandas as pd\n",
    "\n",
    "from napari_simpleitk_image_processing import label_statistics\n",
    "from skimage.io import imread, imsave\n",
    "\n",
    "import napari_skimage_regionprops as nsr\n",
    "\n",
    "from sklearn.preprocessing import StandardScaler\n",
    "import seaborn\n",
    "import stackview"
   ]
  },
  {
   "cell_type": "markdown",
   "id": "6aea770b-616d-4130-b39e-0c9e90080ef7",
   "metadata": {},
   "source": [
    "## Set filenames ##"
   ]
  },
  {
   "cell_type": "code",
   "execution_count": 2,
   "id": "63be4dc8-8e3f-47a3-b0f7-e1626d387bdc",
   "metadata": {
    "tags": []
   },
   "outputs": [],
   "source": [
    "source_stack          = '/Volumes/Quail/Quail/220214_highresnode/220214_63x_node_scan_121t_11x11y_MERGED_rotated.tif'\n",
    "datafolder            = 'data/'\n",
    "cropped_node_file     = f'{datafolder}220214_cropped_node.tif'\n",
    "cropped_non_node_file = f'{datafolder}220214_cropped_non_node.tif'"
   ]
  },
  {
   "cell_type": "markdown",
   "id": "e6bca399-f107-4b5d-a663-dce264b5942d",
   "metadata": {},
   "source": [
    "## Open viewer ##"
   ]
  },
  {
   "cell_type": "code",
   "execution_count": 3,
   "id": "4b398f0e-dd13-4e50-bd20-d4818c13cd96",
   "metadata": {
    "tags": []
   },
   "outputs": [],
   "source": [
    "viewer = napari.Viewer()"
   ]
  },
  {
   "cell_type": "markdown",
   "id": "8323266c-3ec6-4ca6-86e3-06bd2d8688bd",
   "metadata": {},
   "source": [
    "## Add source stack ##"
   ]
  },
  {
   "cell_type": "code",
   "execution_count": 4,
   "id": "f5d0fa71-5490-4fb2-b973-e13da45c093b",
   "metadata": {
    "tags": []
   },
   "outputs": [],
   "source": [
    "# viewer.open('/Volumes/Quail/Quail/220214_highresnode/220214_63x_node_scan_121t_11x11y_MERGED_rotated.tif')\n",
    "highres_node = imread(source_stack)"
   ]
  },
  {
   "cell_type": "code",
   "execution_count": 5,
   "id": "909afe6e-29b6-41f0-847b-59c0d68cbdc9",
   "metadata": {
    "tags": []
   },
   "outputs": [
    {
     "data": {
      "text/plain": [
       "<Image layer 'highres_node' at 0x15cd04220>"
      ]
     },
     "execution_count": 5,
     "metadata": {},
     "output_type": "execute_result"
    }
   ],
   "source": [
    "viewer.add_image(\n",
    "    highres_node,\n",
    "    colormap='gray_r'\n",
    ")"
   ]
  },
  {
   "cell_type": "markdown",
   "id": "bd0a5d14-3210-428a-9ad7-5d6c4ee4ea4c",
   "metadata": {},
   "source": [
    "## Define crop regions ##\n",
    "\n",
    "One in Henson's node, the other in the periphery of the tissue."
   ]
  },
  {
   "cell_type": "code",
   "execution_count": 6,
   "id": "61383873-8eef-4441-9062-1ca6f460f2e6",
   "metadata": {
    "tags": []
   },
   "outputs": [],
   "source": [
    "node_crop_region = [\n",
    "    [100, 6359.53378526, 6166.86457369],\n",
    "    [100, 6359.53378526, 8045.70961167],\n",
    "    [100, 8238.37882323, 8045.70961167],\n",
    "    [100, 8238.37882323, 6166.86457369]\n",
    "]"
   ]
  },
  {
   "cell_type": "code",
   "execution_count": 7,
   "id": "d19b82df-3633-4bf7-9618-f19f442d0239",
   "metadata": {
    "tags": []
   },
   "outputs": [],
   "source": [
    "non_node_crop_region = [\n",
    "    [   67.        ,  6606.34456304, 10653.08839096],\n",
    "    [   67.        ,  6606.34456304, 12536.25288005],\n",
    "    [   67.        ,  8489.50905213, 12536.25288005],\n",
    "    [   67.        ,  8489.50905213, 10653.08839096]\n",
    "]"
   ]
  },
  {
   "cell_type": "code",
   "execution_count": 8,
   "id": "3fc55a0f-2764-466f-bd38-25cd627b04d4",
   "metadata": {
    "tags": []
   },
   "outputs": [
    {
     "data": {
      "text/plain": [
       "<Shapes layer 'node_crop_region' at 0x15cf1db40>"
      ]
     },
     "execution_count": 8,
     "metadata": {},
     "output_type": "execute_result"
    }
   ],
   "source": [
    "viewer.add_shapes(\n",
    "    node_crop_region,\n",
    "    name='node_crop_region',\n",
    "    opacity=0.5,\n",
    "    ndim=3,\n",
    ")"
   ]
  },
  {
   "cell_type": "code",
   "execution_count": 9,
   "id": "022fb72d-4202-4459-b5a7-c007d932de4f",
   "metadata": {
    "tags": []
   },
   "outputs": [
    {
     "data": {
      "text/plain": [
       "<Shapes layer 'non_node_crop_region' at 0x15d97cd60>"
      ]
     },
     "execution_count": 9,
     "metadata": {},
     "output_type": "execute_result"
    }
   ],
   "source": [
    "viewer.add_shapes(\n",
    "    non_node_crop_region,\n",
    "    name='non_node_crop_region',\n",
    "    opacity=0.5,\n",
    "    ndim=3,\n",
    ")"
   ]
  },
  {
   "cell_type": "code",
   "execution_count": 10,
   "id": "884a2087-295f-4ab0-96be-95d5ec94c543",
   "metadata": {
    "tags": []
   },
   "outputs": [
    {
     "data": {
      "text/plain": [
       "[<Image layer 'highres_node' at 0x15cd04220>, <Shapes layer 'node_crop_region' at 0x15cf1db40>, <Shapes layer 'non_node_crop_region' at 0x15d97cd60>]"
      ]
     },
     "execution_count": 10,
     "metadata": {},
     "output_type": "execute_result"
    }
   ],
   "source": [
    "viewer.layers"
   ]
  },
  {
   "cell_type": "markdown",
   "id": "982ee204-6088-43e3-a6da-a271be829139",
   "metadata": {},
   "source": [
    "## Crop ##\n",
    "\n",
    "Uses napari_crop plugin."
   ]
  },
  {
   "cell_type": "code",
   "execution_count": 11,
   "id": "e1d6cc5b-d501-4abc-91a1-89df94ac1488",
   "metadata": {
    "tags": []
   },
   "outputs": [
    {
     "data": {
      "text/plain": [
       "(201, 1879, 1880)"
      ]
     },
     "execution_count": 11,
     "metadata": {},
     "output_type": "execute_result"
    }
   ],
   "source": [
    "cropped_node = napari_crop.crop_region(layer=viewer.layers[0], shapes_layer=viewer.layers[1])[0][0] # cropped node returnds a list of [(data, metadata_dictionary)] tuples for each shape\n",
    "cropped_node.shape"
   ]
  },
  {
   "cell_type": "code",
   "execution_count": 12,
   "id": "c97c6813-9cd3-446a-bd6f-6a41b40e398f",
   "metadata": {
    "tags": []
   },
   "outputs": [
    {
     "data": {
      "text/plain": [
       "(201, 1885, 1884)"
      ]
     },
     "execution_count": 12,
     "metadata": {},
     "output_type": "execute_result"
    }
   ],
   "source": [
    "cropped_non_node = napari_crop.crop_region(layer=viewer.layers[0], shapes_layer=viewer.layers[2])[0][0] # cropped node returnds a list of [(data, metadata_dictionary)] tuples for each shape\n",
    "cropped_non_node.shape"
   ]
  },
  {
   "cell_type": "markdown",
   "id": "a4d0dcd7-2970-4140-a7da-9352d58d2544",
   "metadata": {},
   "source": [
    "## View cropped regions ##"
   ]
  },
  {
   "cell_type": "code",
   "execution_count": 13,
   "id": "c73b824a-bc28-45dd-821d-dda3c732dba0",
   "metadata": {
    "tags": []
   },
   "outputs": [
    {
     "data": {
      "text/plain": [
       "<Image layer 'cropped_node' at 0x15da430a0>"
      ]
     },
     "execution_count": 13,
     "metadata": {},
     "output_type": "execute_result"
    }
   ],
   "source": [
    "viewer.add_image(\n",
    "    cropped_node,\n",
    "    colormap='gray_r'\n",
    ")"
   ]
  },
  {
   "cell_type": "code",
   "execution_count": 14,
   "id": "f3793614-d660-4e1d-b64d-191815313d75",
   "metadata": {
    "tags": []
   },
   "outputs": [
    {
     "data": {
      "text/plain": [
       "<Image layer 'cropped_non_node' at 0x15da1c310>"
      ]
     },
     "execution_count": 14,
     "metadata": {},
     "output_type": "execute_result"
    }
   ],
   "source": [
    "viewer.add_image(\n",
    "    cropped_non_node,\n",
    "    colormap='gray_r'\n",
    ")"
   ]
  },
  {
   "cell_type": "markdown",
   "id": "790da6ee-f16c-400d-8d57-0f8eb368b956",
   "metadata": {},
   "source": [
    "## Save cropped regions ##"
   ]
  },
  {
   "cell_type": "code",
   "execution_count": 15,
   "id": "66347d85-4119-40c4-b342-bdcfd9b26595",
   "metadata": {
    "tags": []
   },
   "outputs": [],
   "source": [
    "imsave(cropped_node_file, cropped_node, plugin='tifffile')"
   ]
  },
  {
   "cell_type": "code",
   "execution_count": 16,
   "id": "392518f2-fefc-4c60-a9c1-cb8c5984f36f",
   "metadata": {
    "tags": []
   },
   "outputs": [],
   "source": [
    "imsave(cropped_non_node_file, cropped_non_node, plugin='tifffile')"
   ]
  },
  {
   "cell_type": "markdown",
   "id": "be318747-b23c-41f5-8ee3-3230ada9f72a",
   "metadata": {},
   "source": [
    "## Close unneeded layers ##\n",
    "\n",
    "Free up memory."
   ]
  },
  {
   "cell_type": "code",
   "execution_count": 17,
   "id": "ebf47ad4-ab0d-4019-9f21-3eee9e551a14",
   "metadata": {
    "tags": []
   },
   "outputs": [],
   "source": [
    "viewer.layers.remove('highres_node')"
   ]
  },
  {
   "cell_type": "code",
   "execution_count": 18,
   "id": "08d193da-f9d3-4fef-95f9-9c4fbd78923d",
   "metadata": {
    "tags": []
   },
   "outputs": [],
   "source": [
    "viewer.layers.remove('node_crop_region')"
   ]
  },
  {
   "cell_type": "code",
   "execution_count": 19,
   "id": "8c1e137d-f754-406d-91c4-0038b1a66e8c",
   "metadata": {
    "tags": []
   },
   "outputs": [],
   "source": [
    "viewer.layers.remove('non_node_crop_region')"
   ]
  },
  {
   "cell_type": "code",
   "execution_count": 20,
   "id": "d1045687-0741-4abb-887c-de44ca4583f2",
   "metadata": {
    "tags": []
   },
   "outputs": [],
   "source": [
    "# viewer.layers.remove('cropped_node')"
   ]
  },
  {
   "cell_type": "code",
   "execution_count": 21,
   "id": "2757bb87-a82e-4c75-9ec4-283a002260e0",
   "metadata": {
    "tags": []
   },
   "outputs": [],
   "source": [
    "# viewer.layers.remove('cropped_non_node')"
   ]
  },
  {
   "cell_type": "markdown",
   "id": "706ab2d1-2bd9-480f-97e4-b6cad71b5e23",
   "metadata": {},
   "source": [
    "## End ##"
   ]
  }
 ],
 "metadata": {
  "kernelspec": {
   "display_name": "Python 3 (ipykernel)",
   "language": "python",
   "name": "python3"
  },
  "language_info": {
   "codemirror_mode": {
    "name": "ipython",
    "version": 3
   },
   "file_extension": ".py",
   "mimetype": "text/x-python",
   "name": "python",
   "nbconvert_exporter": "python",
   "pygments_lexer": "ipython3",
   "version": "3.10.8"
  }
 },
 "nbformat": 4,
 "nbformat_minor": 5
}
