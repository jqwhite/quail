{
 "cells": [
  {
   "cell_type": "markdown",
   "id": "4a3ee5de-40dc-4260-a550-12d592e8b59f",
   "metadata": {
    "tags": []
   },
   "source": [
    "# Minimal example to illustrate OpenCL Issue #\n",
    "\n",
    "Problem in `OpenCL` called from `napari_simpleitk_image_processing.label_statistics`\n",
    "\n",
    "Jamie White 2023-01-30"
   ]
  },
  {
   "cell_type": "code",
   "execution_count": 1,
   "id": "af1c22ee",
   "metadata": {
    "lines_to_next_cell": 2
   },
   "outputs": [],
   "source": [
    "from skimage.io import imread\n",
    "import pyclesperanto_prototype as cle  # version 0.19.3\n",
    "import napari\n",
    "from napari_simpleitk_image_processing import label_statistics"
   ]
  },
  {
   "cell_type": "code",
   "execution_count": 2,
   "id": "ada3d25d-1e21-4e77-b776-9b4c884da224",
   "metadata": {},
   "outputs": [],
   "source": [
    "from skimage import data as sample_data"
   ]
  },
  {
   "cell_type": "markdown",
   "id": "45fca59b-1400-4997-bf29-d3c5b0e4b555",
   "metadata": {
    "tags": []
   },
   "source": [
    "## Check pyopencl ##\n",
    "\n",
    "`pyopencl` appears to access the M1 GPU correctly"
   ]
  },
  {
   "cell_type": "code",
   "execution_count": 11,
   "id": "f1829754-a3bc-4194-bc3b-42a51ff084d3",
   "metadata": {},
   "outputs": [
    {
     "name": "stdout",
     "output_type": "stream",
     "text": [
      "\n",
      "Number of OpenCL platforms: 1\n",
      "\n",
      "-------------------------\n",
      "Platform: Apple\n",
      "Vendor: Apple\n",
      "Version: OpenCL 1.2 (Aug  8 2022 21:29:55)\n",
      "Number of devices: 1\n",
      "\t-------------------------\n",
      "\t\tName: Apple M1\n",
      "\t\tVersion: OpenCL C 1.2 \n",
      "\t\tMax. Compute Units: 8\n",
      "\t\tLocal Memory Size: 32.0 KB\n",
      "\t\tGlobal Memory Size: 10922.671875 MB\n",
      "\t\tMax Alloc Size: 2048.0 MB\n",
      "\t\tMax Work-group Total Size: 256\n",
      "\t\tMax Work-group Dims:( 256 256 256 )\n",
      "\t-------------------------\n",
      "\n",
      "-------------------------\n"
     ]
    }
   ],
   "source": [
    "# Import the Python OpenCL API\n",
    "import pyopencl as cl\n",
    "\n",
    "# Create a list of all the platform IDs\n",
    "platforms = cl.get_platforms()\n",
    "\n",
    "print(\"\\nNumber of OpenCL platforms:\", len(platforms))\n",
    "print( \"\\n-------------------------\")\n",
    "\n",
    "for p in platforms:\n",
    "    \n",
    "    print( \"Platform:\", p.name)\n",
    "    print( \"Vendor:\", p.vendor)\n",
    "    print( \"Version:\", p.version)\n",
    "    # Discover all devices\n",
    "    devices = p.get_devices()\n",
    "    print(\"Number of devices:\", len(devices))\n",
    "    \n",
    "     # Investigate each device\n",
    "    for d in devices:\n",
    "        \n",
    "        print(\"\\t-------------------------\")\n",
    "        # Print out some information about the devices\n",
    "        print(\"\\t\\tName:\", d.name)\n",
    "        print(\"\\t\\tVersion:\", d.opencl_c_version)\n",
    "        print(\"\\t\\tMax. Compute Units:\", d.max_compute_units)\n",
    "        print(\"\\t\\tLocal Memory Size:\", d.local_mem_size/1024, \"KB\")\n",
    "        print(\"\\t\\tGlobal Memory Size:\", d.global_mem_size/(1024*1024), \"MB\")\n",
    "        print(\"\\t\\tMax Alloc Size:\", d.max_mem_alloc_size/(1024*1024), \"MB\")\n",
    "        print(\"\\t\\tMax Work-group Total Size:\", d.max_work_group_size)\n",
    "\n",
    "        # Find the maximum dimensions of the work-groups\n",
    "        dim = d.max_work_item_sizes\n",
    "        print(\"\\t\\tMax Work-group Dims:(\", dim[0], \" \".join(map(str, dim[1:])), \")\")\n",
    "\n",
    "        print(\"\\t-------------------------\")\n",
    "\n",
    "    print(\"\\n-------------------------\")"
   ]
  },
  {
   "cell_type": "markdown",
   "id": "65702d60",
   "metadata": {},
   "source": [
    "## Loading 'nuclei'\n",
    "Manually loading the nuclei data from napari ui via Open example->napari->Cells(3d+2ch)."
   ]
  },
  {
   "cell_type": "code",
   "execution_count": 4,
   "id": "73068aea-8d5f-441c-a05c-674ef89518d8",
   "metadata": {},
   "outputs": [
    {
     "data": {
      "text/plain": [
       "(60, 2, 256, 256)"
      ]
     },
     "execution_count": 4,
     "metadata": {},
     "output_type": "execute_result"
    }
   ],
   "source": [
    "image = sample_data.cells3d()\n",
    "image.shape"
   ]
  },
  {
   "cell_type": "code",
   "execution_count": 5,
   "id": "33bd9c1f-e01f-4850-ab9c-8353c859ebc8",
   "metadata": {},
   "outputs": [
    {
     "data": {
      "text/plain": [
       "(256, 256)"
      ]
     },
     "execution_count": 5,
     "metadata": {},
     "output_type": "execute_result"
    }
   ],
   "source": [
    "membranes = image[30, 0]\n",
    "membranes.shape"
   ]
  },
  {
   "cell_type": "code",
   "execution_count": 6,
   "id": "8e39dd4f-d064-40cb-8374-8daff10cf9a5",
   "metadata": {},
   "outputs": [
    {
     "data": {
      "text/plain": [
       "(256, 256)"
      ]
     },
     "execution_count": 6,
     "metadata": {},
     "output_type": "execute_result"
    }
   ],
   "source": [
    "nuclei = image[30, 1]\n",
    "nuclei.shape"
   ]
  },
  {
   "cell_type": "code",
   "execution_count": 7,
   "id": "9ada73c6-8a0e-4c46-a190-6ebb625fa139",
   "metadata": {},
   "outputs": [],
   "source": [
    "viewer = napari.Viewer()\n",
    "viewer.add_image(membranes, colormap='cyan', blending='translucent')\n",
    "viewer.add_image(nuclei, colormap='magenta', blending='additive');"
   ]
  },
  {
   "cell_type": "markdown",
   "id": "b0fe7d01",
   "metadata": {},
   "source": [
    "## voronoi otsu labeling"
   ]
  },
  {
   "cell_type": "code",
   "execution_count": 9,
   "id": "c86457ba",
   "metadata": {},
   "outputs": [
    {
     "data": {
      "text/html": [
       "<table>\n",
       "<tr>\n",
       "<td>\n",
       "<img src=\"data:image/png;base64,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\"></img>\n",
       "</td>\n",
       "<td style=\"text-align: center; vertical-align: top;\">\n",
       "<b><a href=\"https://github.com/clEsperanto/pyclesperanto_prototype\" target=\"_blank\">cle._</a> image</b><br/>\n",
       "<table>\n",
       "<tr><td>shape</td><td>(256,&nbsp;256)</td></tr>\n",
       "<tr><td>dtype</td><td>uint32</td></tr>\n",
       "<tr><td>size</td><td>256.0 kB</td></tr>\n",
       "<tr><td>min</td><td>0.0</td></tr><tr><td>max</td><td>38.0</td></tr>\n",
       "</table>\n",
       "\n",
       "</td>\n",
       "</tr>\n",
       "</table>"
      ],
      "text/plain": [
       "cl.OCLArray([[ 0,  0,  0, ..., 33, 33, 33],\n",
       "       [ 0,  0,  0, ..., 33, 33, 33],\n",
       "       [ 0,  0,  0, ..., 33, 33, 33],\n",
       "       ...,\n",
       "       [ 0,  0,  0, ...,  0,  0,  0],\n",
       "       [ 0,  0,  0, ...,  0,  0,  0],\n",
       "       [ 0,  0,  0, ...,  0,  0,  0]], dtype=uint32)"
      ]
     },
     "execution_count": 9,
     "metadata": {},
     "output_type": "execute_result"
    }
   ],
   "source": [
    "image1_vol = cle.voronoi_otsu_labeling(nuclei, None, 7.0, 2.0)\n",
    "image1_vol"
   ]
  },
  {
   "cell_type": "code",
   "execution_count": 10,
   "id": "b045845a-ac60-4c5d-aa37-7d6758e850cf",
   "metadata": {},
   "outputs": [
    {
     "name": "stderr",
     "output_type": "stream",
     "text": [
      "UNSUPPORTED (log once): buildComputeProgram: cl2Metal failed\n"
     ]
    },
    {
     "ename": "RuntimeError",
     "evalue": "clBuildProgram failed: BUILD_PROGRAM_FAILURE - clBuildProgram failed: BUILD_PROGRAM_FAILURE - clBuildProgram failed: BUILD_PROGRAM_FAILURE\n\nBuild on <pyopencl.Device 'Apple M1' on 'Apple' at 0x6000014547a0>:\n\nCompiler encountered an internal error\n(options: -I /Users/jwhite/miniforge3/envs/tf-napari/lib/python3.10/site-packages/pyopencl/cl)\n(source saved as /var/folders/vg/pkq1xs_x1b559nk61kjgcgkh0000gn/T/tmp9_xrwq8p.cl)",
     "output_type": "error",
     "traceback": [
      "\u001b[0;31m---------------------------------------------------------------------------\u001b[0m",
      "\u001b[0;31mRuntimeError\u001b[0m                              Traceback (most recent call last)",
      "Cell \u001b[0;32mIn[10], line 1\u001b[0m\n\u001b[0;32m----> 1\u001b[0m statistics \u001b[38;5;241m=\u001b[39m \u001b[43mlabel_statistics\u001b[49m\u001b[43m(\u001b[49m\u001b[43mnuclei\u001b[49m\u001b[43m,\u001b[49m\u001b[43m \u001b[49m\u001b[43mimage1_vol\u001b[49m\u001b[43m,\u001b[49m\u001b[43m \u001b[49m\n\u001b[1;32m      2\u001b[0m \u001b[43m                              \u001b[49m\u001b[43mintensity\u001b[49m\u001b[38;5;241;43m=\u001b[39;49m\u001b[38;5;28;43;01mTrue\u001b[39;49;00m\u001b[43m,\u001b[49m\u001b[43m \u001b[49m\n\u001b[1;32m      3\u001b[0m \u001b[43m                              \u001b[49m\u001b[43msize\u001b[49m\u001b[38;5;241;43m=\u001b[39;49m\u001b[38;5;28;43;01mTrue\u001b[39;49;00m\u001b[43m,\u001b[49m\u001b[43m \u001b[49m\n\u001b[1;32m      4\u001b[0m \u001b[43m                              \u001b[49m\u001b[43mshape\u001b[49m\u001b[38;5;241;43m=\u001b[39;49m\u001b[38;5;28;43;01mTrue\u001b[39;49;00m\u001b[43m,\u001b[49m\u001b[43m \u001b[49m\n\u001b[1;32m      5\u001b[0m \u001b[43m                              \u001b[49m\u001b[43mperimeter\u001b[49m\u001b[38;5;241;43m=\u001b[39;49m\u001b[38;5;28;43;01mFalse\u001b[39;49;00m\u001b[43m,\u001b[49m\u001b[43m \u001b[49m\n\u001b[1;32m      6\u001b[0m \u001b[43m                              \u001b[49m\u001b[43mposition\u001b[49m\u001b[38;5;241;43m=\u001b[39;49m\u001b[38;5;28;43;01mFalse\u001b[39;49;00m\u001b[43m,\u001b[49m\n\u001b[1;32m      7\u001b[0m \u001b[43m                              \u001b[49m\u001b[43mmoments\u001b[49m\u001b[38;5;241;43m=\u001b[39;49m\u001b[38;5;28;43;01mFalse\u001b[39;49;00m\n\u001b[1;32m      8\u001b[0m \u001b[43m                             \u001b[49m\u001b[43m)\u001b[49m\n",
      "File \u001b[0;32m~/miniforge3/envs/tf-napari/lib/python3.10/site-packages/napari_simpleitk_image_processing/_simpleitk_image_processing.py:837\u001b[0m, in \u001b[0;36mlabel_statistics\u001b[0;34m(intensity_image, label_image, size, intensity, perimeter, shape, position, moments, napari_viewer)\u001b[0m\n\u001b[1;32m    808\u001b[0m \u001b[38;5;250m\u001b[39m\u001b[38;5;124;03m\"\"\"Measure intensity/shape/... statistics per label\u001b[39;00m\n\u001b[1;32m    809\u001b[0m \n\u001b[1;32m    810\u001b[0m \u001b[38;5;124;03mParameters\u001b[39;00m\n\u001b[0;32m   (...)\u001b[0m\n\u001b[1;32m    833\u001b[0m \u001b[38;5;124;03m..[1] http://insightsoftwareconsortium.github.io/SimpleITK-Notebooks/Python_html/35_Segmentation_Shape_Analysis.html\u001b[39;00m\n\u001b[1;32m    834\u001b[0m \u001b[38;5;124;03m\"\"\"\u001b[39;00m\n\u001b[1;32m    835\u001b[0m \u001b[38;5;28;01mimport\u001b[39;00m \u001b[38;5;21;01mSimpleITK\u001b[39;00m \u001b[38;5;28;01mas\u001b[39;00m \u001b[38;5;21;01msitk\u001b[39;00m\n\u001b[0;32m--> 837\u001b[0m sitk_label_image \u001b[38;5;241m=\u001b[39m sitk\u001b[38;5;241m.\u001b[39mGetImageFromArray(\u001b[43mlabel_image\u001b[49m\u001b[38;5;241;43m.\u001b[39;49m\u001b[43mastype\u001b[49m\u001b[43m(\u001b[49m\u001b[38;5;28;43mint\u001b[39;49m\u001b[43m)\u001b[49m)\n\u001b[1;32m    838\u001b[0m \u001b[38;5;28;01mif\u001b[39;00m intensity:\n\u001b[1;32m    839\u001b[0m     sitk_intensity_image \u001b[38;5;241m=\u001b[39m sitk\u001b[38;5;241m.\u001b[39mGetImageFromArray(intensity_image)\n",
      "File \u001b[0;32m~/miniforge3/envs/tf-napari/lib/python3.10/site-packages/pyclesperanto_prototype/_tier0/_pycl.py:148\u001b[0m, in \u001b[0;36mOCLArray.astype\u001b[0;34m(self, dtype, copy)\u001b[0m\n\u001b[1;32m    146\u001b[0m copied \u001b[38;5;241m=\u001b[39m create(\u001b[38;5;28mself\u001b[39m\u001b[38;5;241m.\u001b[39mshape, dtype\u001b[38;5;241m=\u001b[39mdtype)\n\u001b[1;32m    147\u001b[0m \u001b[38;5;28;01mfrom\u001b[39;00m \u001b[38;5;21;01m.\u001b[39;00m\u001b[38;5;21;01m.\u001b[39;00m\u001b[38;5;21;01m_tier1\u001b[39;00m \u001b[38;5;28;01mimport\u001b[39;00m copy\n\u001b[0;32m--> 148\u001b[0m \u001b[38;5;28;01mreturn\u001b[39;00m \u001b[43mcopy\u001b[49m\u001b[43m(\u001b[49m\u001b[38;5;28;43mself\u001b[39;49m\u001b[43m,\u001b[49m\u001b[43m \u001b[49m\u001b[43mcopied\u001b[49m\u001b[43m)\u001b[49m\n",
      "File \u001b[0;32m~/miniforge3/envs/tf-napari/lib/python3.10/site-packages/pyclesperanto_prototype/_tier0/_plugin_function.py:71\u001b[0m, in \u001b[0;36mplugin_function.<locals>.worker_function\u001b[0;34m(*args, **kwargs)\u001b[0m\n\u001b[1;32m     68\u001b[0m         bound\u001b[38;5;241m.\u001b[39marguments[key] \u001b[38;5;241m=\u001b[39m output_creator(\u001b[38;5;241m*\u001b[39mbound\u001b[38;5;241m.\u001b[39margs[:\u001b[38;5;28mlen\u001b[39m(sig2\u001b[38;5;241m.\u001b[39mparameters)])\n\u001b[1;32m     70\u001b[0m \u001b[38;5;66;03m# call the decorated function\u001b[39;00m\n\u001b[0;32m---> 71\u001b[0m \u001b[38;5;28;01mreturn\u001b[39;00m \u001b[43mfunction\u001b[49m\u001b[43m(\u001b[49m\u001b[38;5;241;43m*\u001b[39;49m\u001b[43mbound\u001b[49m\u001b[38;5;241;43m.\u001b[39;49m\u001b[43margs\u001b[49m\u001b[43m,\u001b[49m\u001b[43m \u001b[49m\u001b[38;5;241;43m*\u001b[39;49m\u001b[38;5;241;43m*\u001b[39;49m\u001b[43mbound\u001b[49m\u001b[38;5;241;43m.\u001b[39;49m\u001b[43mkwargs\u001b[49m\u001b[43m)\u001b[49m\n",
      "File \u001b[0;32m~/miniforge3/envs/tf-napari/lib/python3.10/site-packages/pyclesperanto_prototype/_tier1/_copy.py:36\u001b[0m, in \u001b[0;36mcopy\u001b[0;34m(source, destination)\u001b[0m\n\u001b[1;32m      7\u001b[0m \u001b[38;5;250m\u001b[39m\u001b[38;5;124;03m\"\"\"Copies an image.\u001b[39;00m\n\u001b[1;32m      8\u001b[0m \u001b[38;5;124;03m\u001b[39;00m\n\u001b[1;32m      9\u001b[0m \u001b[38;5;124;03m<pre>f(x) = x</pre> \u001b[39;00m\n\u001b[0;32m   (...)\u001b[0m\n\u001b[1;32m     27\u001b[0m \u001b[38;5;124;03m.. [1] https://clij.github.io/clij2-docs/reference_copy\u001b[39;00m\n\u001b[1;32m     28\u001b[0m \u001b[38;5;124;03m\"\"\"\u001b[39;00m\n\u001b[1;32m     31\u001b[0m parameters \u001b[38;5;241m=\u001b[39m {\n\u001b[1;32m     32\u001b[0m     \u001b[38;5;124m\"\u001b[39m\u001b[38;5;124mdst\u001b[39m\u001b[38;5;124m\"\u001b[39m:destination,\n\u001b[1;32m     33\u001b[0m     \u001b[38;5;124m\"\u001b[39m\u001b[38;5;124msrc\u001b[39m\u001b[38;5;124m\"\u001b[39m:source\n\u001b[1;32m     34\u001b[0m }\n\u001b[0;32m---> 36\u001b[0m \u001b[43mexecute\u001b[49m\u001b[43m(\u001b[49m\u001b[38;5;18;43m__file__\u001b[39;49m\u001b[43m,\u001b[49m\u001b[43m \u001b[49m\u001b[38;5;124;43m'\u001b[39;49m\u001b[38;5;124;43m../clij-opencl-kernels/kernels/copy_\u001b[39;49m\u001b[38;5;124;43m'\u001b[39;49m\u001b[43m \u001b[49m\u001b[38;5;241;43m+\u001b[39;49m\u001b[43m \u001b[49m\u001b[38;5;28;43mstr\u001b[39;49m\u001b[43m(\u001b[49m\u001b[38;5;28;43mlen\u001b[39;49m\u001b[43m(\u001b[49m\u001b[43mdestination\u001b[49m\u001b[38;5;241;43m.\u001b[39;49m\u001b[43mshape\u001b[49m\u001b[43m)\u001b[49m\u001b[43m)\u001b[49m\u001b[43m \u001b[49m\u001b[38;5;241;43m+\u001b[39;49m\u001b[43m \u001b[49m\u001b[38;5;124;43m'\u001b[39;49m\u001b[38;5;124;43md_x.cl\u001b[39;49m\u001b[38;5;124;43m'\u001b[39;49m\u001b[43m,\u001b[49m\u001b[43m \u001b[49m\u001b[38;5;124;43m'\u001b[39;49m\u001b[38;5;124;43mcopy_\u001b[39;49m\u001b[38;5;124;43m'\u001b[39;49m\u001b[43m \u001b[49m\u001b[38;5;241;43m+\u001b[39;49m\u001b[43m \u001b[49m\u001b[38;5;28;43mstr\u001b[39;49m\u001b[43m(\u001b[49m\u001b[38;5;28;43mlen\u001b[39;49m\u001b[43m(\u001b[49m\u001b[43mdestination\u001b[49m\u001b[38;5;241;43m.\u001b[39;49m\u001b[43mshape\u001b[49m\u001b[43m)\u001b[49m\u001b[43m)\u001b[49m\u001b[43m \u001b[49m\u001b[38;5;241;43m+\u001b[39;49m\u001b[43m \u001b[49m\u001b[38;5;124;43m'\u001b[39;49m\u001b[38;5;124;43md\u001b[39;49m\u001b[38;5;124;43m'\u001b[39;49m\u001b[43m,\u001b[49m\u001b[43m \u001b[49m\u001b[43mdestination\u001b[49m\u001b[38;5;241;43m.\u001b[39;49m\u001b[43mshape\u001b[49m\u001b[43m,\u001b[49m\u001b[43m \u001b[49m\u001b[43mparameters\u001b[49m\u001b[43m)\u001b[49m\n\u001b[1;32m     37\u001b[0m \u001b[38;5;28;01mreturn\u001b[39;00m destination\n",
      "File \u001b[0;32m~/miniforge3/envs/tf-napari/lib/python3.10/site-packages/pyclesperanto_prototype/_tier0/_execute.py:35\u001b[0m, in \u001b[0;36mexecute\u001b[0;34m(anchor, opencl_kernel_filename, kernel_name, global_size, parameters, prog, constants, image_size_independent_kernel_compilation, device)\u001b[0m\n\u001b[1;32m      2\u001b[0m \u001b[38;5;28;01mdef\u001b[39;00m \u001b[38;5;21mexecute\u001b[39m(anchor, opencl_kernel_filename:\u001b[38;5;28mstr\u001b[39m, kernel_name:\u001b[38;5;28mstr\u001b[39m, global_size, parameters, prog \u001b[38;5;241m=\u001b[39m \u001b[38;5;28;01mNone\u001b[39;00m, constants \u001b[38;5;241m=\u001b[39m \u001b[38;5;28;01mNone\u001b[39;00m, image_size_independent_kernel_compilation : \u001b[38;5;28mbool\u001b[39m \u001b[38;5;241m=\u001b[39m \u001b[38;5;28;01mNone\u001b[39;00m, device \u001b[38;5;241m=\u001b[39m \u001b[38;5;28;01mNone\u001b[39;00m):\n\u001b[1;32m      3\u001b[0m \u001b[38;5;250m    \u001b[39m\u001b[38;5;124;03m\"\"\"\u001b[39;00m\n\u001b[1;32m      4\u001b[0m \u001b[38;5;124;03m    Call opencl kernels (.cl files)\u001b[39;00m\n\u001b[1;32m      5\u001b[0m \n\u001b[0;32m   (...)\u001b[0m\n\u001b[1;32m     33\u001b[0m \n\u001b[1;32m     34\u001b[0m \u001b[38;5;124;03m    \"\"\"\u001b[39;00m\n\u001b[0;32m---> 35\u001b[0m     \u001b[38;5;28;01mreturn\u001b[39;00m \u001b[43mBackend\u001b[49m\u001b[38;5;241;43m.\u001b[39;49m\u001b[43mget_instance\u001b[49m\u001b[43m(\u001b[49m\u001b[43m)\u001b[49m\u001b[38;5;241;43m.\u001b[39;49m\u001b[43mget\u001b[49m\u001b[43m(\u001b[49m\u001b[43m)\u001b[49m\u001b[38;5;241;43m.\u001b[39;49m\u001b[43mexecute\u001b[49m\u001b[43m(\u001b[49m\u001b[43manchor\u001b[49m\u001b[43m,\u001b[49m\u001b[43m \u001b[49m\u001b[43mopencl_kernel_filename\u001b[49m\u001b[43m,\u001b[49m\u001b[43m \u001b[49m\u001b[43mkernel_name\u001b[49m\u001b[43m,\u001b[49m\u001b[43m \u001b[49m\u001b[43mglobal_size\u001b[49m\u001b[43m,\u001b[49m\u001b[43m \u001b[49m\u001b[43mparameters\u001b[49m\u001b[43m,\u001b[49m\u001b[43m \u001b[49m\u001b[43mprog\u001b[49m\u001b[43m,\u001b[49m\u001b[43m \u001b[49m\u001b[43mconstants\u001b[49m\u001b[43m,\u001b[49m\u001b[43m \u001b[49m\u001b[43mimage_size_independent_kernel_compilation\u001b[49m\u001b[43m,\u001b[49m\u001b[43m \u001b[49m\u001b[43mdevice\u001b[49m\u001b[43m)\u001b[49m\n",
      "File \u001b[0;32m~/miniforge3/envs/tf-napari/lib/python3.10/site-packages/pyclesperanto_prototype/_tier0/_opencl_backend.py:41\u001b[0m, in \u001b[0;36mOpenCLBackend.execute\u001b[0;34m(self, anchor, opencl_kernel_filename, kernel_name, global_size, parameters, prog, constants, image_size_independent_kernel_compilation, device)\u001b[0m\n\u001b[1;32m     40\u001b[0m \u001b[38;5;28;01mdef\u001b[39;00m \u001b[38;5;21mexecute\u001b[39m(\u001b[38;5;28mself\u001b[39m, anchor, opencl_kernel_filename, kernel_name, global_size, parameters, prog \u001b[38;5;241m=\u001b[39m \u001b[38;5;28;01mNone\u001b[39;00m, constants \u001b[38;5;241m=\u001b[39m \u001b[38;5;28;01mNone\u001b[39;00m, image_size_independent_kernel_compilation : \u001b[38;5;28mbool\u001b[39m \u001b[38;5;241m=\u001b[39m \u001b[38;5;28;01mNone\u001b[39;00m, device \u001b[38;5;241m=\u001b[39m \u001b[38;5;28;01mNone\u001b[39;00m):\n\u001b[0;32m---> 41\u001b[0m     \u001b[38;5;28;01mreturn\u001b[39;00m \u001b[43mexecute\u001b[49m\u001b[43m(\u001b[49m\u001b[43manchor\u001b[49m\u001b[43m,\u001b[49m\u001b[43m \u001b[49m\u001b[43mopencl_kernel_filename\u001b[49m\u001b[43m,\u001b[49m\u001b[43m \u001b[49m\u001b[43mkernel_name\u001b[49m\u001b[43m,\u001b[49m\u001b[43m \u001b[49m\u001b[43mglobal_size\u001b[49m\u001b[43m,\u001b[49m\u001b[43m \u001b[49m\u001b[43mparameters\u001b[49m\u001b[43m,\u001b[49m\u001b[43m \u001b[49m\u001b[43mprog\u001b[49m\u001b[43m,\u001b[49m\u001b[43m \u001b[49m\u001b[43mconstants\u001b[49m\u001b[43m,\u001b[49m\u001b[43m \u001b[49m\u001b[43mimage_size_independent_kernel_compilation\u001b[49m\u001b[43m,\u001b[49m\u001b[43m \u001b[49m\u001b[43mdevice\u001b[49m\u001b[43m)\u001b[49m\n",
      "File \u001b[0;32m~/miniforge3/envs/tf-napari/lib/python3.10/site-packages/pyclesperanto_prototype/_tier0/_opencl_execute.py:311\u001b[0m, in \u001b[0;36mexecute\u001b[0;34m(anchor, opencl_kernel_filename, kernel_name, global_size, parameters, prog, constants, image_size_independent_kernel_compilation, device)\u001b[0m\n\u001b[1;32m    305\u001b[0m     \u001b[38;5;28;01melse\u001b[39;00m:\n\u001b[1;32m    306\u001b[0m         warnings\u001b[38;5;241m.\u001b[39mwarn(\n\u001b[1;32m    307\u001b[0m             \u001b[38;5;124m\"\u001b[39m\u001b[38;5;124mThe `device` parameter of pyclesperanto_prototype.execute is deprecated since 0.11.0. It will be removed in 0.12.0.\u001b[39m\u001b[38;5;124m\"\u001b[39m,\n\u001b[1;32m    308\u001b[0m             \u001b[38;5;167;01mDeprecationWarning\u001b[39;00m\n\u001b[1;32m    309\u001b[0m         )\n\u001b[0;32m--> 311\u001b[0m     prog \u001b[38;5;241m=\u001b[39m \u001b[43mdevice\u001b[49m\u001b[38;5;241;43m.\u001b[39;49m\u001b[43mprogram_from_source\u001b[49m\u001b[43m(\u001b[49m\u001b[38;5;124;43m\"\u001b[39;49m\u001b[38;5;130;43;01m\\n\u001b[39;49;00m\u001b[38;5;124;43m\"\u001b[39;49m\u001b[38;5;241;43m.\u001b[39;49m\u001b[43mjoin\u001b[49m\u001b[43m(\u001b[49m\u001b[43mdefines\u001b[49m\u001b[43m)\u001b[49m\u001b[43m)\u001b[49m\n\u001b[1;32m    312\u001b[0m     \u001b[38;5;66;03m#prog = OCLProgram.from_source(\"\\n\".join(defines))\u001b[39;00m\n\u001b[1;32m    313\u001b[0m \n\u001b[1;32m    314\u001b[0m     \u001b[38;5;66;03m# Todo: the order of the arguments matters; fix that\u001b[39;00m\n\u001b[1;32m    315\u001b[0m     \u001b[38;5;66;03m# print(\"Compilation \" + opencl_kernel_filename + \" took \" + str((time.time() - time_stamp) * 1000) + \" ms\")\u001b[39;00m\n\u001b[1;32m    316\u001b[0m \u001b[38;5;28;01melse\u001b[39;00m:\n\u001b[1;32m    317\u001b[0m     warnings\u001b[38;5;241m.\u001b[39mwarn(\n\u001b[1;32m    318\u001b[0m         \u001b[38;5;124m\"\u001b[39m\u001b[38;5;124mThe `prog` parameter of pyclesperanto_prototype.execute is deprecated since 0.11.0. It will be removed in 0.12.0.\u001b[39m\u001b[38;5;124m\"\u001b[39m,\n\u001b[1;32m    319\u001b[0m         \u001b[38;5;167;01mDeprecationWarning\u001b[39;00m\n\u001b[1;32m    320\u001b[0m     )\n",
      "File \u001b[0;32m~/miniforge3/envs/tf-napari/lib/python3.10/site-packages/pyclesperanto_prototype/_tier0/_device.py:26\u001b[0m, in \u001b[0;36mDevice.program_from_source\u001b[0;34m(self, source)\u001b[0m\n\u001b[1;32m     23\u001b[0m \u001b[38;5;129m@lru_cache\u001b[39m(maxsize\u001b[38;5;241m=\u001b[39m\u001b[38;5;241m128\u001b[39m)\n\u001b[1;32m     24\u001b[0m \u001b[38;5;28;01mdef\u001b[39;00m \u001b[38;5;21mprogram_from_source\u001b[39m(\u001b[38;5;28mself\u001b[39m, source):\n\u001b[1;32m     25\u001b[0m     \u001b[38;5;28;01mfrom\u001b[39;00m \u001b[38;5;21;01m.\u001b[39;00m\u001b[38;5;21;01m_program\u001b[39;00m \u001b[38;5;28;01mimport\u001b[39;00m OCLProgram\n\u001b[0;32m---> 26\u001b[0m     \u001b[38;5;28;01mreturn\u001b[39;00m \u001b[43mOCLProgram\u001b[49m\u001b[43m(\u001b[49m\u001b[43msrc_str\u001b[49m\u001b[38;5;241;43m=\u001b[39;49m\u001b[43msource\u001b[49m\u001b[43m,\u001b[49m\u001b[43m \u001b[49m\u001b[43mdev\u001b[49m\u001b[38;5;241;43m=\u001b[39;49m\u001b[38;5;28;43mself\u001b[39;49m\u001b[43m)\u001b[49m\n",
      "File \u001b[0;32m~/miniforge3/envs/tf-napari/lib/python3.10/site-packages/pyclesperanto_prototype/_tier0/_program.py:28\u001b[0m, in \u001b[0;36mOCLProgram.__init__\u001b[0;34m(self, file_name, src_str, build_options, dev)\u001b[0m\n\u001b[1;32m     26\u001b[0m \u001b[38;5;28mself\u001b[39m\u001b[38;5;241m.\u001b[39m_kernel_dict \u001b[38;5;241m=\u001b[39m {}\n\u001b[1;32m     27\u001b[0m \u001b[38;5;28msuper\u001b[39m()\u001b[38;5;241m.\u001b[39m\u001b[38;5;21m__init__\u001b[39m(\u001b[38;5;28mself\u001b[39m\u001b[38;5;241m.\u001b[39m_dev\u001b[38;5;241m.\u001b[39mcontext, src_str)\n\u001b[0;32m---> 28\u001b[0m \u001b[38;5;28;43mself\u001b[39;49m\u001b[38;5;241;43m.\u001b[39;49m\u001b[43mbuild\u001b[49m\u001b[43m(\u001b[49m\u001b[43moptions\u001b[49m\u001b[38;5;241;43m=\u001b[39;49m\u001b[43mbuild_options\u001b[49m\u001b[43m)\u001b[49m\n",
      "File \u001b[0;32m~/miniforge3/envs/tf-napari/lib/python3.10/site-packages/pyopencl/__init__.py:532\u001b[0m, in \u001b[0;36mProgram.build\u001b[0;34m(self, options, devices, cache_dir)\u001b[0m\n\u001b[1;32m    528\u001b[0m \u001b[38;5;28;01melse\u001b[39;00m:\n\u001b[1;32m    529\u001b[0m     \u001b[38;5;66;03m# cached\u001b[39;00m\n\u001b[1;32m    531\u001b[0m     \u001b[38;5;28;01mfrom\u001b[39;00m \u001b[38;5;21;01mpyopencl\u001b[39;00m\u001b[38;5;21;01m.\u001b[39;00m\u001b[38;5;21;01mcache\u001b[39;00m \u001b[38;5;28;01mimport\u001b[39;00m create_built_program_from_source_cached\n\u001b[0;32m--> 532\u001b[0m     \u001b[38;5;28mself\u001b[39m\u001b[38;5;241m.\u001b[39m_prg, was_cached \u001b[38;5;241m=\u001b[39m \u001b[38;5;28;43mself\u001b[39;49m\u001b[38;5;241;43m.\u001b[39;49m\u001b[43m_build_and_catch_errors\u001b[49m\u001b[43m(\u001b[49m\n\u001b[1;32m    533\u001b[0m \u001b[43m            \u001b[49m\u001b[38;5;28;43;01mlambda\u001b[39;49;00m\u001b[43m:\u001b[49m\u001b[43m \u001b[49m\u001b[43mcreate_built_program_from_source_cached\u001b[49m\u001b[43m(\u001b[49m\n\u001b[1;32m    534\u001b[0m \u001b[43m                \u001b[49m\u001b[38;5;28;43mself\u001b[39;49m\u001b[38;5;241;43m.\u001b[39;49m\u001b[43m_context\u001b[49m\u001b[43m,\u001b[49m\u001b[43m \u001b[49m\u001b[38;5;28;43mself\u001b[39;49m\u001b[38;5;241;43m.\u001b[39;49m\u001b[43m_source\u001b[49m\u001b[43m,\u001b[49m\u001b[43m \u001b[49m\u001b[43moptions_bytes\u001b[49m\u001b[43m,\u001b[49m\u001b[43m \u001b[49m\u001b[43mdevices\u001b[49m\u001b[43m,\u001b[49m\n\u001b[1;32m    535\u001b[0m \u001b[43m                \u001b[49m\u001b[43mcache_dir\u001b[49m\u001b[38;5;241;43m=\u001b[39;49m\u001b[43mcache_dir\u001b[49m\u001b[43m,\u001b[49m\u001b[43m \u001b[49m\u001b[43minclude_path\u001b[49m\u001b[38;5;241;43m=\u001b[39;49m\u001b[43minclude_path\u001b[49m\u001b[43m)\u001b[49m\u001b[43m,\u001b[49m\n\u001b[1;32m    536\u001b[0m \u001b[43m            \u001b[49m\u001b[43moptions_bytes\u001b[49m\u001b[38;5;241;43m=\u001b[39;49m\u001b[43moptions_bytes\u001b[49m\u001b[43m,\u001b[49m\u001b[43m \u001b[49m\u001b[43msource\u001b[49m\u001b[38;5;241;43m=\u001b[39;49m\u001b[38;5;28;43mself\u001b[39;49m\u001b[38;5;241;43m.\u001b[39;49m\u001b[43m_source\u001b[49m\u001b[43m)\u001b[49m\n\u001b[1;32m    538\u001b[0m     \u001b[38;5;28;01mif\u001b[39;00m was_cached:\n\u001b[1;32m    539\u001b[0m         build_descr \u001b[38;5;241m=\u001b[39m \u001b[38;5;124m\"\u001b[39m\u001b[38;5;124mcache retrieval\u001b[39m\u001b[38;5;124m\"\u001b[39m\n",
      "File \u001b[0;32m~/miniforge3/envs/tf-napari/lib/python3.10/site-packages/pyopencl/__init__.py:580\u001b[0m, in \u001b[0;36mProgram._build_and_catch_errors\u001b[0;34m(self, build_func, options_bytes, source)\u001b[0m\n\u001b[1;32m    572\u001b[0m     err \u001b[38;5;241m=\u001b[39m _cl\u001b[38;5;241m.\u001b[39mRuntimeError(\n\u001b[1;32m    573\u001b[0m             _cl\u001b[38;5;241m.\u001b[39m_ErrorRecord(\n\u001b[1;32m    574\u001b[0m                 msg\u001b[38;5;241m=\u001b[39mmsg,\n\u001b[1;32m    575\u001b[0m                 code\u001b[38;5;241m=\u001b[39mcode,\n\u001b[1;32m    576\u001b[0m                 routine\u001b[38;5;241m=\u001b[39mroutine))\n\u001b[1;32m    578\u001b[0m \u001b[38;5;66;03m# Python 3.2 outputs the whole list of currently active exceptions\u001b[39;00m\n\u001b[1;32m    579\u001b[0m \u001b[38;5;66;03m# This serves to remove one (redundant) level from that nesting.\u001b[39;00m\n\u001b[0;32m--> 580\u001b[0m \u001b[38;5;28;01mraise\u001b[39;00m err\n",
      "\u001b[0;31mRuntimeError\u001b[0m: clBuildProgram failed: BUILD_PROGRAM_FAILURE - clBuildProgram failed: BUILD_PROGRAM_FAILURE - clBuildProgram failed: BUILD_PROGRAM_FAILURE\n\nBuild on <pyopencl.Device 'Apple M1' on 'Apple' at 0x6000014547a0>:\n\nCompiler encountered an internal error\n(options: -I /Users/jwhite/miniforge3/envs/tf-napari/lib/python3.10/site-packages/pyopencl/cl)\n(source saved as /var/folders/vg/pkq1xs_x1b559nk61kjgcgkh0000gn/T/tmp9_xrwq8p.cl)"
     ]
    }
   ],
   "source": [
    "statistics = label_statistics(nuclei, image1_vol, \n",
    "                              intensity=True, \n",
    "                              size=True, \n",
    "                              shape=True, \n",
    "                              perimeter=False, \n",
    "                              position=False,\n",
    "                              moments=False\n",
    "                             )"
   ]
  },
  {
   "cell_type": "code",
   "execution_count": null,
   "id": "ffce98f6-a74f-4298-82f7-b356d8fa8a30",
   "metadata": {},
   "outputs": [],
   "source": []
  }
 ],
 "metadata": {
  "jupytext": {
   "cell_metadata_filter": "-all",
   "main_language": "python",
   "notebook_metadata_filter": "-all"
  },
  "kernelspec": {
   "display_name": "Python 3 (ipykernel)",
   "language": "python",
   "name": "python3"
  },
  "language_info": {
   "codemirror_mode": {
    "name": "ipython",
    "version": 3
   },
   "file_extension": ".py",
   "mimetype": "text/x-python",
   "name": "python",
   "nbconvert_exporter": "python",
   "pygments_lexer": "ipython3",
   "version": "3.10.8"
  }
 },
 "nbformat": 4,
 "nbformat_minor": 5
}
