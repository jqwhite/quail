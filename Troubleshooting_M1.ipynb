{
 "cells": [
  {
   "cell_type": "code",
   "execution_count": 1,
   "id": "1003f5b7-6b0c-4dd8-ac50-94e1b753ecd1",
   "metadata": {},
   "outputs": [
    {
     "name": "stdout",
     "output_type": "stream",
     "text": [
      "Used GPU:  <Apple M1 on Platform: Apple (2 refs)>\n",
      "Num objects in the image: 62.0\n"
     ]
    },
    {
     "name": "stderr",
     "output_type": "stream",
     "text": [
      "/var/folders/vg/pkq1xs_x1b559nk61kjgcgkh0000gn/T/ipykernel_91044/2795466400.py:25: UserWarning: result.tif is a low contrast image\n",
      "  imsave(\"result.tif\", labeled)\n"
     ]
    }
   ],
   "source": [
    "import pyclesperanto_prototype as cle\n",
    "\n",
    "from skimage.io import imread, imsave\n",
    "\n",
    "# initialize GPU\n",
    "device = cle.select_device(\"GTX\")\n",
    "print(\"Used GPU: \", device)\n",
    "\n",
    "# load data\n",
    "image = imread('https://imagej.nih.gov/ij/images/blobs.gif')\n",
    "\n",
    "# process the image\n",
    "inverted = cle.subtract_image_from_scalar(image, scalar=255)\n",
    "blurred = cle.gaussian_blur(inverted, sigma_x=1, sigma_y=1)\n",
    "binary = cle.threshold_otsu(blurred)\n",
    "labeled = cle.connected_components_labeling_box(binary)\n",
    "\n",
    "# The maxmium intensity in a label image corresponds to the number of objects\n",
    "num_labels = cle.maximum_of_all_pixels(labeled)\n",
    "\n",
    "# print out result\n",
    "print(\"Num objects in the image: \" + str(num_labels))\n",
    "\n",
    "# save image to disc\n",
    "imsave(\"result.tif\", labeled)"
   ]
  },
  {
   "cell_type": "code",
   "execution_count": 2,
   "id": "22d1a892-a555-4c24-8922-24c43d03f92c",
   "metadata": {},
   "outputs": [],
   "source": [
    "import pyopencl as cl"
   ]
  },
  {
   "cell_type": "code",
   "execution_count": null,
   "id": "c4de00bc-ed58-4a78-aa0c-8eed36084d36",
   "metadata": {},
   "outputs": [],
   "source": []
  }
 ],
 "metadata": {
  "kernelspec": {
   "display_name": "Python 3 (ipykernel)",
   "language": "python",
   "name": "python3"
  },
  "language_info": {
   "codemirror_mode": {
    "name": "ipython",
    "version": 3
   },
   "file_extension": ".py",
   "mimetype": "text/x-python",
   "name": "python",
   "nbconvert_exporter": "python",
   "pygments_lexer": "ipython3",
   "version": "3.10.8"
  }
 },
 "nbformat": 4,
 "nbformat_minor": 5
}
