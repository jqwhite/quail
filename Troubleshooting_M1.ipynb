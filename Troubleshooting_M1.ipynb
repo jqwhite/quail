{
 "cells": [
  {
   "cell_type": "code",
   "execution_count": 2,
   "id": "1003f5b7-6b0c-4dd8-ac50-94e1b753ecd1",
   "metadata": {},
   "outputs": [
    {
     "name": "stdout",
     "output_type": "stream",
     "text": [
      "Used GPU:  <Apple M1 on Platform: Apple (2 refs)>\n",
      "Num objects in the image: 62.0\n"
     ]
    },
    {
     "name": "stderr",
     "output_type": "stream",
     "text": [
      "/var/folders/vg/pkq1xs_x1b559nk61kjgcgkh0000gn/T/ipykernel_23749/2795466400.py:25: UserWarning: result.tif is a low contrast image\n",
      "  imsave(\"result.tif\", labeled)\n"
     ]
    }
   ],
   "source": [
    "import pyclesperanto_prototype as cle\n",
    "\n",
    "from skimage.io import imread, imsave\n",
    "\n",
    "# initialize GPU\n",
    "device = cle.select_device(\"GTX\")\n",
    "print(\"Used GPU: \", device)\n",
    "\n",
    "# load data\n",
    "image = imread('https://imagej.nih.gov/ij/images/blobs.gif')\n",
    "\n",
    "# process the image\n",
    "inverted = cle.subtract_image_from_scalar(image, scalar=255)\n",
    "blurred = cle.gaussian_blur(inverted, sigma_x=1, sigma_y=1)\n",
    "binary = cle.threshold_otsu(blurred)\n",
    "labeled = cle.connected_components_labeling_box(binary)\n",
    "\n",
    "# The maxmium intensity in a label image corresponds to the number of objects\n",
    "num_labels = cle.maximum_of_all_pixels(labeled)\n",
    "\n",
    "# print out result\n",
    "print(\"Num objects in the image: \" + str(num_labels))\n",
    "\n",
    "# save image to disc\n",
    "imsave(\"result.tif\", labeled)"
   ]
  },
  {
   "cell_type": "code",
   "execution_count": 22,
   "id": "22d1a892-a555-4c24-8922-24c43d03f92c",
   "metadata": {},
   "outputs": [],
   "source": [
    "import pyopencl as cl\n",
    "import napari_segment_blobs_and_things_with_membranes as nsbatwm  # version 0.3.3\n",
    "from napari_simpleitk_image_processing import label_statistics\n",
    "import napari_simpleitk_image_processing"
   ]
  },
  {
   "cell_type": "code",
   "execution_count": 9,
   "id": "c4de00bc-ed58-4a78-aa0c-8eed36084d36",
   "metadata": {},
   "outputs": [],
   "source": [
    "zoom=1\n",
    "lmsw_3d = nsbatwm.local_minima_seeded_watershed(image, 25.0*zoom, 5.0*zoom)"
   ]
  },
  {
   "cell_type": "code",
   "execution_count": 15,
   "id": "33ff6e3f-17f7-4650-96d1-2e0e3f84eef1",
   "metadata": {},
   "outputs": [],
   "source": [
    "# exclude labels on the edge of the stack\n",
    "exclude_labels_on_edges = cle.exclude_labels_on_edges(lmsw_3d)"
   ]
  },
  {
   "cell_type": "code",
   "execution_count": 20,
   "id": "cad50d1e-ee78-45b5-bdb8-05defbcb0c66",
   "metadata": {},
   "outputs": [
    {
     "data": {
      "text/plain": [
       "<Apple M1 on Platform: Apple (2 refs)>"
      ]
     },
     "execution_count": 20,
     "metadata": {},
     "output_type": "execute_result"
    }
   ],
   "source": [
    "cle.select_device('CPU')"
   ]
  },
  {
   "cell_type": "code",
   "execution_count": 23,
   "id": "836b96d9-8da4-46fa-93b1-f3c892af022c",
   "metadata": {},
   "outputs": [
    {
     "data": {
      "text/plain": [
       "['__builtins__',\n",
       " '__cached__',\n",
       " '__common_alias__',\n",
       " '__doc__',\n",
       " '__file__',\n",
       " '__loader__',\n",
       " '__name__',\n",
       " '__package__',\n",
       " '__path__',\n",
       " '__spec__',\n",
       " '__version__',\n",
       " '_function',\n",
       " '_simpleitk_image_processing',\n",
       " 'adaptive_histogram_equalization',\n",
       " 'bilateral_filter',\n",
       " 'binary_fill_holes',\n",
       " 'binominal_blur_filter',\n",
       " 'black_top_hat',\n",
       " 'canny_edge_detection',\n",
       " 'connected_component_labeling',\n",
       " 'curvature_flow_denoise',\n",
       " 'elongation_map',\n",
       " 'feret_diameter_map',\n",
       " 'gaussian_blur',\n",
       " 'gradient_magnitude',\n",
       " 'h_maxima',\n",
       " 'h_minima',\n",
       " 'invert_intensity',\n",
       " 'label_contour',\n",
       " 'label_statistics',\n",
       " 'laplacian_filter',\n",
       " 'laplacian_of_gaussian_filter',\n",
       " 'median_filter',\n",
       " 'morphological_gradient',\n",
       " 'morphological_watershed',\n",
       " 'napari_experimental_provide_function',\n",
       " 'otsu_multiple_thresholds',\n",
       " 'pixel_count_map',\n",
       " 'plugin_function',\n",
       " 'regional_maxima',\n",
       " 'regional_minima',\n",
       " 'relabel_component',\n",
       " 'rescale_intensity',\n",
       " 'richardson_lucy_deconvolution',\n",
       " 'roundness_map',\n",
       " 'scalar_image_k_means_clustering',\n",
       " 'signed_maurer_distance_map',\n",
       " 'simple_linear_iterative_clustering',\n",
       " 'sobel',\n",
       " 'standard_deviation_filter',\n",
       " 'threshold_huang',\n",
       " 'threshold_intermodes',\n",
       " 'threshold_isodata',\n",
       " 'threshold_kittler_illingworth',\n",
       " 'threshold_li',\n",
       " 'threshold_maximum_entropy',\n",
       " 'threshold_moments',\n",
       " 'threshold_otsu',\n",
       " 'threshold_renyi_entropy',\n",
       " 'threshold_shanbhag',\n",
       " 'threshold_triangle',\n",
       " 'threshold_yen',\n",
       " 'tikhonov_deconvolution',\n",
       " 'touching_objects_labeling',\n",
       " 'watershed_otsu_labeling',\n",
       " 'white_top_hat',\n",
       " 'wiener_deconvolution']"
      ]
     },
     "execution_count": 23,
     "metadata": {},
     "output_type": "execute_result"
    }
   ],
   "source": [
    "dir(napari_simpleitk_image_processing)"
   ]
  },
  {
   "cell_type": "code",
   "execution_count": 17,
   "id": "cc3c578d-9c79-401b-a3cc-97ef53684bb8",
   "metadata": {},
   "outputs": [
    {
     "ename": "RuntimeError",
     "evalue": "clBuildProgram failed: BUILD_PROGRAM_FAILURE - clBuildProgram failed: BUILD_PROGRAM_FAILURE - clBuildProgram failed: BUILD_PROGRAM_FAILURE\n\nBuild on <pyopencl.Device 'Apple M1' on 'Apple' at 0x60000239cdc0>:\n\nCompiler encountered an internal error\n(options: -I /Users/jwhite/miniforge3/envs/tf-napari/lib/python3.10/site-packages/pyopencl/cl)\n(source saved as /var/folders/vg/pkq1xs_x1b559nk61kjgcgkh0000gn/T/tmpcsh6w4cq.cl)",
     "output_type": "error",
     "traceback": [
      "\u001b[0;31m---------------------------------------------------------------------------\u001b[0m",
      "\u001b[0;31mRuntimeError\u001b[0m                              Traceback (most recent call last)",
      "Cell \u001b[0;32mIn[17], line 1\u001b[0m\n\u001b[0;32m----> 1\u001b[0m statistics \u001b[38;5;241m=\u001b[39m \u001b[43mlabel_statistics\u001b[49m\u001b[43m(\u001b[49m\u001b[43mimage\u001b[49m\u001b[43m,\u001b[49m\u001b[43m \u001b[49m\n\u001b[1;32m      2\u001b[0m \u001b[43m                              \u001b[49m\u001b[43mexclude_labels_on_edges\u001b[49m\u001b[43m,\u001b[49m\u001b[43m \u001b[49m\n\u001b[1;32m      3\u001b[0m \u001b[43m                              \u001b[49m\u001b[43mintensity\u001b[49m\u001b[38;5;241;43m=\u001b[39;49m\u001b[38;5;28;43;01mTrue\u001b[39;49;00m\u001b[43m,\u001b[49m\u001b[43m \u001b[49m\n\u001b[1;32m      4\u001b[0m \u001b[43m                              \u001b[49m\u001b[43msize\u001b[49m\u001b[38;5;241;43m=\u001b[39;49m\u001b[38;5;28;43;01mFalse\u001b[39;49;00m\u001b[43m,\u001b[49m\u001b[43m \u001b[49m\n\u001b[1;32m      5\u001b[0m \u001b[43m                              \u001b[49m\u001b[43mshape\u001b[49m\u001b[38;5;241;43m=\u001b[39;49m\u001b[38;5;28;43;01mFalse\u001b[39;49;00m\u001b[43m,\u001b[49m\u001b[43m \u001b[49m\n\u001b[1;32m      6\u001b[0m \u001b[43m                              \u001b[49m\u001b[43mperimeter\u001b[49m\u001b[38;5;241;43m=\u001b[39;49m\u001b[38;5;28;43;01mFalse\u001b[39;49;00m\u001b[43m,\u001b[49m\u001b[43m \u001b[49m\n\u001b[1;32m      7\u001b[0m \u001b[43m                              \u001b[49m\u001b[43mposition\u001b[49m\u001b[38;5;241;43m=\u001b[39;49m\u001b[38;5;28;43;01mFalse\u001b[39;49;00m\u001b[43m,\u001b[49m\n\u001b[1;32m      8\u001b[0m \u001b[43m                              \u001b[49m\u001b[43mmoments\u001b[49m\u001b[38;5;241;43m=\u001b[39;49m\u001b[38;5;28;43;01mFalse\u001b[39;49;00m\n\u001b[1;32m      9\u001b[0m \u001b[43m                             \u001b[49m\u001b[43m)\u001b[49m\n",
      "File \u001b[0;32m~/miniforge3/envs/tf-napari/lib/python3.10/site-packages/napari_simpleitk_image_processing/_simpleitk_image_processing.py:837\u001b[0m, in \u001b[0;36mlabel_statistics\u001b[0;34m(intensity_image, label_image, size, intensity, perimeter, shape, position, moments, napari_viewer)\u001b[0m\n\u001b[1;32m    808\u001b[0m \u001b[38;5;124;03m\"\"\"Measure intensity/shape/... statistics per label\u001b[39;00m\n\u001b[1;32m    809\u001b[0m \n\u001b[1;32m    810\u001b[0m \u001b[38;5;124;03mParameters\u001b[39;00m\n\u001b[0;32m   (...)\u001b[0m\n\u001b[1;32m    833\u001b[0m \u001b[38;5;124;03m..[1] http://insightsoftwareconsortium.github.io/SimpleITK-Notebooks/Python_html/35_Segmentation_Shape_Analysis.html\u001b[39;00m\n\u001b[1;32m    834\u001b[0m \u001b[38;5;124;03m\"\"\"\u001b[39;00m\n\u001b[1;32m    835\u001b[0m \u001b[38;5;28;01mimport\u001b[39;00m \u001b[38;5;21;01mSimpleITK\u001b[39;00m \u001b[38;5;28;01mas\u001b[39;00m \u001b[38;5;21;01msitk\u001b[39;00m\n\u001b[0;32m--> 837\u001b[0m sitk_label_image \u001b[38;5;241m=\u001b[39m sitk\u001b[38;5;241m.\u001b[39mGetImageFromArray(\u001b[43mlabel_image\u001b[49m\u001b[38;5;241;43m.\u001b[39;49m\u001b[43mastype\u001b[49m\u001b[43m(\u001b[49m\u001b[38;5;28;43mint\u001b[39;49m\u001b[43m)\u001b[49m)\n\u001b[1;32m    838\u001b[0m \u001b[38;5;28;01mif\u001b[39;00m intensity:\n\u001b[1;32m    839\u001b[0m     sitk_intensity_image \u001b[38;5;241m=\u001b[39m sitk\u001b[38;5;241m.\u001b[39mGetImageFromArray(intensity_image)\n",
      "File \u001b[0;32m~/miniforge3/envs/tf-napari/lib/python3.10/site-packages/pyclesperanto_prototype/_tier0/_pycl.py:148\u001b[0m, in \u001b[0;36mOCLArray.astype\u001b[0;34m(self, dtype, copy)\u001b[0m\n\u001b[1;32m    146\u001b[0m copied \u001b[38;5;241m=\u001b[39m create(\u001b[38;5;28mself\u001b[39m\u001b[38;5;241m.\u001b[39mshape, dtype\u001b[38;5;241m=\u001b[39mdtype)\n\u001b[1;32m    147\u001b[0m \u001b[38;5;28;01mfrom\u001b[39;00m \u001b[38;5;21;01m.\u001b[39;00m\u001b[38;5;21;01m.\u001b[39;00m\u001b[38;5;21;01m_tier1\u001b[39;00m \u001b[38;5;28;01mimport\u001b[39;00m copy\n\u001b[0;32m--> 148\u001b[0m \u001b[38;5;28;01mreturn\u001b[39;00m \u001b[43mcopy\u001b[49m\u001b[43m(\u001b[49m\u001b[38;5;28;43mself\u001b[39;49m\u001b[43m,\u001b[49m\u001b[43m \u001b[49m\u001b[43mcopied\u001b[49m\u001b[43m)\u001b[49m\n",
      "File \u001b[0;32m~/miniforge3/envs/tf-napari/lib/python3.10/site-packages/pyclesperanto_prototype/_tier0/_plugin_function.py:71\u001b[0m, in \u001b[0;36mplugin_function.<locals>.worker_function\u001b[0;34m(*args, **kwargs)\u001b[0m\n\u001b[1;32m     68\u001b[0m         bound\u001b[38;5;241m.\u001b[39marguments[key] \u001b[38;5;241m=\u001b[39m output_creator(\u001b[38;5;241m*\u001b[39mbound\u001b[38;5;241m.\u001b[39margs[:\u001b[38;5;28mlen\u001b[39m(sig2\u001b[38;5;241m.\u001b[39mparameters)])\n\u001b[1;32m     70\u001b[0m \u001b[38;5;66;03m# call the decorated function\u001b[39;00m\n\u001b[0;32m---> 71\u001b[0m \u001b[38;5;28;01mreturn\u001b[39;00m \u001b[43mfunction\u001b[49m\u001b[43m(\u001b[49m\u001b[38;5;241;43m*\u001b[39;49m\u001b[43mbound\u001b[49m\u001b[38;5;241;43m.\u001b[39;49m\u001b[43margs\u001b[49m\u001b[43m,\u001b[49m\u001b[43m \u001b[49m\u001b[38;5;241;43m*\u001b[39;49m\u001b[38;5;241;43m*\u001b[39;49m\u001b[43mbound\u001b[49m\u001b[38;5;241;43m.\u001b[39;49m\u001b[43mkwargs\u001b[49m\u001b[43m)\u001b[49m\n",
      "File \u001b[0;32m~/miniforge3/envs/tf-napari/lib/python3.10/site-packages/pyclesperanto_prototype/_tier1/_copy.py:36\u001b[0m, in \u001b[0;36mcopy\u001b[0;34m(source, destination)\u001b[0m\n\u001b[1;32m      7\u001b[0m \u001b[38;5;124;03m\"\"\"Copies an image.\u001b[39;00m\n\u001b[1;32m      8\u001b[0m \u001b[38;5;124;03m\u001b[39;00m\n\u001b[1;32m      9\u001b[0m \u001b[38;5;124;03m<pre>f(x) = x</pre> \u001b[39;00m\n\u001b[0;32m   (...)\u001b[0m\n\u001b[1;32m     27\u001b[0m \u001b[38;5;124;03m.. [1] https://clij.github.io/clij2-docs/reference_copy\u001b[39;00m\n\u001b[1;32m     28\u001b[0m \u001b[38;5;124;03m\"\"\"\u001b[39;00m\n\u001b[1;32m     31\u001b[0m parameters \u001b[38;5;241m=\u001b[39m {\n\u001b[1;32m     32\u001b[0m     \u001b[38;5;124m\"\u001b[39m\u001b[38;5;124mdst\u001b[39m\u001b[38;5;124m\"\u001b[39m:destination,\n\u001b[1;32m     33\u001b[0m     \u001b[38;5;124m\"\u001b[39m\u001b[38;5;124msrc\u001b[39m\u001b[38;5;124m\"\u001b[39m:source\n\u001b[1;32m     34\u001b[0m }\n\u001b[0;32m---> 36\u001b[0m \u001b[43mexecute\u001b[49m\u001b[43m(\u001b[49m\u001b[38;5;18;43m__file__\u001b[39;49m\u001b[43m,\u001b[49m\u001b[43m \u001b[49m\u001b[38;5;124;43m'\u001b[39;49m\u001b[38;5;124;43m../clij-opencl-kernels/kernels/copy_\u001b[39;49m\u001b[38;5;124;43m'\u001b[39;49m\u001b[43m \u001b[49m\u001b[38;5;241;43m+\u001b[39;49m\u001b[43m \u001b[49m\u001b[38;5;28;43mstr\u001b[39;49m\u001b[43m(\u001b[49m\u001b[38;5;28;43mlen\u001b[39;49m\u001b[43m(\u001b[49m\u001b[43mdestination\u001b[49m\u001b[38;5;241;43m.\u001b[39;49m\u001b[43mshape\u001b[49m\u001b[43m)\u001b[49m\u001b[43m)\u001b[49m\u001b[43m \u001b[49m\u001b[38;5;241;43m+\u001b[39;49m\u001b[43m \u001b[49m\u001b[38;5;124;43m'\u001b[39;49m\u001b[38;5;124;43md_x.cl\u001b[39;49m\u001b[38;5;124;43m'\u001b[39;49m\u001b[43m,\u001b[49m\u001b[43m \u001b[49m\u001b[38;5;124;43m'\u001b[39;49m\u001b[38;5;124;43mcopy_\u001b[39;49m\u001b[38;5;124;43m'\u001b[39;49m\u001b[43m \u001b[49m\u001b[38;5;241;43m+\u001b[39;49m\u001b[43m \u001b[49m\u001b[38;5;28;43mstr\u001b[39;49m\u001b[43m(\u001b[49m\u001b[38;5;28;43mlen\u001b[39;49m\u001b[43m(\u001b[49m\u001b[43mdestination\u001b[49m\u001b[38;5;241;43m.\u001b[39;49m\u001b[43mshape\u001b[49m\u001b[43m)\u001b[49m\u001b[43m)\u001b[49m\u001b[43m \u001b[49m\u001b[38;5;241;43m+\u001b[39;49m\u001b[43m \u001b[49m\u001b[38;5;124;43m'\u001b[39;49m\u001b[38;5;124;43md\u001b[39;49m\u001b[38;5;124;43m'\u001b[39;49m\u001b[43m,\u001b[49m\u001b[43m \u001b[49m\u001b[43mdestination\u001b[49m\u001b[38;5;241;43m.\u001b[39;49m\u001b[43mshape\u001b[49m\u001b[43m,\u001b[49m\u001b[43m \u001b[49m\u001b[43mparameters\u001b[49m\u001b[43m)\u001b[49m\n\u001b[1;32m     37\u001b[0m \u001b[38;5;28;01mreturn\u001b[39;00m destination\n",
      "File \u001b[0;32m~/miniforge3/envs/tf-napari/lib/python3.10/site-packages/pyclesperanto_prototype/_tier0/_execute.py:3\u001b[0m, in \u001b[0;36mexecute\u001b[0;34m(anchor, opencl_kernel_filename, kernel_name, global_size, parameters, prog, constants, image_size_independent_kernel_compilation, device)\u001b[0m\n\u001b[1;32m      2\u001b[0m \u001b[38;5;28;01mdef\u001b[39;00m \u001b[38;5;21mexecute\u001b[39m(anchor, opencl_kernel_filename, kernel_name, global_size, parameters, prog \u001b[38;5;241m=\u001b[39m \u001b[38;5;28;01mNone\u001b[39;00m, constants \u001b[38;5;241m=\u001b[39m \u001b[38;5;28;01mNone\u001b[39;00m, image_size_independent_kernel_compilation : \u001b[38;5;28mbool\u001b[39m \u001b[38;5;241m=\u001b[39m \u001b[38;5;28;01mNone\u001b[39;00m, device \u001b[38;5;241m=\u001b[39m \u001b[38;5;28;01mNone\u001b[39;00m):\n\u001b[0;32m----> 3\u001b[0m     \u001b[38;5;28;01mreturn\u001b[39;00m \u001b[43mBackend\u001b[49m\u001b[38;5;241;43m.\u001b[39;49m\u001b[43mget_instance\u001b[49m\u001b[43m(\u001b[49m\u001b[43m)\u001b[49m\u001b[38;5;241;43m.\u001b[39;49m\u001b[43mget\u001b[49m\u001b[43m(\u001b[49m\u001b[43m)\u001b[49m\u001b[38;5;241;43m.\u001b[39;49m\u001b[43mexecute\u001b[49m\u001b[43m(\u001b[49m\u001b[43manchor\u001b[49m\u001b[43m,\u001b[49m\u001b[43m \u001b[49m\u001b[43mopencl_kernel_filename\u001b[49m\u001b[43m,\u001b[49m\u001b[43m \u001b[49m\u001b[43mkernel_name\u001b[49m\u001b[43m,\u001b[49m\u001b[43m \u001b[49m\u001b[43mglobal_size\u001b[49m\u001b[43m,\u001b[49m\u001b[43m \u001b[49m\u001b[43mparameters\u001b[49m\u001b[43m,\u001b[49m\u001b[43m \u001b[49m\u001b[43mprog\u001b[49m\u001b[43m,\u001b[49m\u001b[43m \u001b[49m\u001b[43mconstants\u001b[49m\u001b[43m,\u001b[49m\u001b[43m \u001b[49m\u001b[43mimage_size_independent_kernel_compilation\u001b[49m\u001b[43m,\u001b[49m\u001b[43m \u001b[49m\u001b[43mdevice\u001b[49m\u001b[43m)\u001b[49m\n",
      "File \u001b[0;32m~/miniforge3/envs/tf-napari/lib/python3.10/site-packages/pyclesperanto_prototype/_tier0/_opencl_backend.py:41\u001b[0m, in \u001b[0;36mOpenCLBackend.execute\u001b[0;34m(self, anchor, opencl_kernel_filename, kernel_name, global_size, parameters, prog, constants, image_size_independent_kernel_compilation, device)\u001b[0m\n\u001b[1;32m     40\u001b[0m \u001b[38;5;28;01mdef\u001b[39;00m \u001b[38;5;21mexecute\u001b[39m(\u001b[38;5;28mself\u001b[39m, anchor, opencl_kernel_filename, kernel_name, global_size, parameters, prog \u001b[38;5;241m=\u001b[39m \u001b[38;5;28;01mNone\u001b[39;00m, constants \u001b[38;5;241m=\u001b[39m \u001b[38;5;28;01mNone\u001b[39;00m, image_size_independent_kernel_compilation : \u001b[38;5;28mbool\u001b[39m \u001b[38;5;241m=\u001b[39m \u001b[38;5;28;01mNone\u001b[39;00m, device \u001b[38;5;241m=\u001b[39m \u001b[38;5;28;01mNone\u001b[39;00m):\n\u001b[0;32m---> 41\u001b[0m     \u001b[38;5;28;01mreturn\u001b[39;00m \u001b[43mexecute\u001b[49m\u001b[43m(\u001b[49m\u001b[43manchor\u001b[49m\u001b[43m,\u001b[49m\u001b[43m \u001b[49m\u001b[43mopencl_kernel_filename\u001b[49m\u001b[43m,\u001b[49m\u001b[43m \u001b[49m\u001b[43mkernel_name\u001b[49m\u001b[43m,\u001b[49m\u001b[43m \u001b[49m\u001b[43mglobal_size\u001b[49m\u001b[43m,\u001b[49m\u001b[43m \u001b[49m\u001b[43mparameters\u001b[49m\u001b[43m,\u001b[49m\u001b[43m \u001b[49m\u001b[43mprog\u001b[49m\u001b[43m,\u001b[49m\u001b[43m \u001b[49m\u001b[43mconstants\u001b[49m\u001b[43m,\u001b[49m\u001b[43m \u001b[49m\u001b[43mimage_size_independent_kernel_compilation\u001b[49m\u001b[43m,\u001b[49m\u001b[43m \u001b[49m\u001b[43mdevice\u001b[49m\u001b[43m)\u001b[49m\n",
      "File \u001b[0;32m~/miniforge3/envs/tf-napari/lib/python3.10/site-packages/pyclesperanto_prototype/_tier0/_opencl_execute.py:311\u001b[0m, in \u001b[0;36mexecute\u001b[0;34m(anchor, opencl_kernel_filename, kernel_name, global_size, parameters, prog, constants, image_size_independent_kernel_compilation, device)\u001b[0m\n\u001b[1;32m    305\u001b[0m     \u001b[38;5;28;01melse\u001b[39;00m:\n\u001b[1;32m    306\u001b[0m         warnings\u001b[38;5;241m.\u001b[39mwarn(\n\u001b[1;32m    307\u001b[0m             \u001b[38;5;124m\"\u001b[39m\u001b[38;5;124mThe `device` parameter of pyclesperanto_prototype.execute is deprecated since 0.11.0. It will be removed in 0.12.0.\u001b[39m\u001b[38;5;124m\"\u001b[39m,\n\u001b[1;32m    308\u001b[0m             \u001b[38;5;167;01mDeprecationWarning\u001b[39;00m\n\u001b[1;32m    309\u001b[0m         )\n\u001b[0;32m--> 311\u001b[0m     prog \u001b[38;5;241m=\u001b[39m \u001b[43mdevice\u001b[49m\u001b[38;5;241;43m.\u001b[39;49m\u001b[43mprogram_from_source\u001b[49m\u001b[43m(\u001b[49m\u001b[38;5;124;43m\"\u001b[39;49m\u001b[38;5;130;43;01m\\n\u001b[39;49;00m\u001b[38;5;124;43m\"\u001b[39;49m\u001b[38;5;241;43m.\u001b[39;49m\u001b[43mjoin\u001b[49m\u001b[43m(\u001b[49m\u001b[43mdefines\u001b[49m\u001b[43m)\u001b[49m\u001b[43m)\u001b[49m\n\u001b[1;32m    312\u001b[0m     \u001b[38;5;66;03m#prog = OCLProgram.from_source(\"\\n\".join(defines))\u001b[39;00m\n\u001b[1;32m    313\u001b[0m \n\u001b[1;32m    314\u001b[0m     \u001b[38;5;66;03m# Todo: the order of the arguments matters; fix that\u001b[39;00m\n\u001b[1;32m    315\u001b[0m     \u001b[38;5;66;03m# print(\"Compilation \" + opencl_kernel_filename + \" took \" + str((time.time() - time_stamp) * 1000) + \" ms\")\u001b[39;00m\n\u001b[1;32m    316\u001b[0m \u001b[38;5;28;01melse\u001b[39;00m:\n\u001b[1;32m    317\u001b[0m     warnings\u001b[38;5;241m.\u001b[39mwarn(\n\u001b[1;32m    318\u001b[0m         \u001b[38;5;124m\"\u001b[39m\u001b[38;5;124mThe `prog` parameter of pyclesperanto_prototype.execute is deprecated since 0.11.0. It will be removed in 0.12.0.\u001b[39m\u001b[38;5;124m\"\u001b[39m,\n\u001b[1;32m    319\u001b[0m         \u001b[38;5;167;01mDeprecationWarning\u001b[39;00m\n\u001b[1;32m    320\u001b[0m     )\n",
      "File \u001b[0;32m~/miniforge3/envs/tf-napari/lib/python3.10/site-packages/pyclesperanto_prototype/_tier0/_device.py:26\u001b[0m, in \u001b[0;36mDevice.program_from_source\u001b[0;34m(self, source)\u001b[0m\n\u001b[1;32m     23\u001b[0m \u001b[38;5;129m@lru_cache\u001b[39m(maxsize\u001b[38;5;241m=\u001b[39m\u001b[38;5;241m128\u001b[39m)\n\u001b[1;32m     24\u001b[0m \u001b[38;5;28;01mdef\u001b[39;00m \u001b[38;5;21mprogram_from_source\u001b[39m(\u001b[38;5;28mself\u001b[39m, source):\n\u001b[1;32m     25\u001b[0m     \u001b[38;5;28;01mfrom\u001b[39;00m \u001b[38;5;21;01m.\u001b[39;00m\u001b[38;5;21;01m_program\u001b[39;00m \u001b[38;5;28;01mimport\u001b[39;00m OCLProgram\n\u001b[0;32m---> 26\u001b[0m     \u001b[38;5;28;01mreturn\u001b[39;00m \u001b[43mOCLProgram\u001b[49m\u001b[43m(\u001b[49m\u001b[43msrc_str\u001b[49m\u001b[38;5;241;43m=\u001b[39;49m\u001b[43msource\u001b[49m\u001b[43m,\u001b[49m\u001b[43m \u001b[49m\u001b[43mdev\u001b[49m\u001b[38;5;241;43m=\u001b[39;49m\u001b[38;5;28;43mself\u001b[39;49m\u001b[43m)\u001b[49m\n",
      "File \u001b[0;32m~/miniforge3/envs/tf-napari/lib/python3.10/site-packages/pyclesperanto_prototype/_tier0/_program.py:28\u001b[0m, in \u001b[0;36mOCLProgram.__init__\u001b[0;34m(self, file_name, src_str, build_options, dev)\u001b[0m\n\u001b[1;32m     26\u001b[0m \u001b[38;5;28mself\u001b[39m\u001b[38;5;241m.\u001b[39m_kernel_dict \u001b[38;5;241m=\u001b[39m {}\n\u001b[1;32m     27\u001b[0m \u001b[38;5;28msuper\u001b[39m()\u001b[38;5;241m.\u001b[39m\u001b[38;5;21m__init__\u001b[39m(\u001b[38;5;28mself\u001b[39m\u001b[38;5;241m.\u001b[39m_dev\u001b[38;5;241m.\u001b[39mcontext, src_str)\n\u001b[0;32m---> 28\u001b[0m \u001b[38;5;28;43mself\u001b[39;49m\u001b[38;5;241;43m.\u001b[39;49m\u001b[43mbuild\u001b[49m\u001b[43m(\u001b[49m\u001b[43moptions\u001b[49m\u001b[38;5;241;43m=\u001b[39;49m\u001b[43mbuild_options\u001b[49m\u001b[43m)\u001b[49m\n",
      "File \u001b[0;32m~/miniforge3/envs/tf-napari/lib/python3.10/site-packages/pyopencl/__init__.py:532\u001b[0m, in \u001b[0;36mProgram.build\u001b[0;34m(self, options, devices, cache_dir)\u001b[0m\n\u001b[1;32m    528\u001b[0m \u001b[38;5;28;01melse\u001b[39;00m:\n\u001b[1;32m    529\u001b[0m     \u001b[38;5;66;03m# cached\u001b[39;00m\n\u001b[1;32m    531\u001b[0m     \u001b[38;5;28;01mfrom\u001b[39;00m \u001b[38;5;21;01mpyopencl\u001b[39;00m\u001b[38;5;21;01m.\u001b[39;00m\u001b[38;5;21;01mcache\u001b[39;00m \u001b[38;5;28;01mimport\u001b[39;00m create_built_program_from_source_cached\n\u001b[0;32m--> 532\u001b[0m     \u001b[38;5;28mself\u001b[39m\u001b[38;5;241m.\u001b[39m_prg, was_cached \u001b[38;5;241m=\u001b[39m \u001b[38;5;28;43mself\u001b[39;49m\u001b[38;5;241;43m.\u001b[39;49m\u001b[43m_build_and_catch_errors\u001b[49m\u001b[43m(\u001b[49m\n\u001b[1;32m    533\u001b[0m \u001b[43m            \u001b[49m\u001b[38;5;28;43;01mlambda\u001b[39;49;00m\u001b[43m:\u001b[49m\u001b[43m \u001b[49m\u001b[43mcreate_built_program_from_source_cached\u001b[49m\u001b[43m(\u001b[49m\n\u001b[1;32m    534\u001b[0m \u001b[43m                \u001b[49m\u001b[38;5;28;43mself\u001b[39;49m\u001b[38;5;241;43m.\u001b[39;49m\u001b[43m_context\u001b[49m\u001b[43m,\u001b[49m\u001b[43m \u001b[49m\u001b[38;5;28;43mself\u001b[39;49m\u001b[38;5;241;43m.\u001b[39;49m\u001b[43m_source\u001b[49m\u001b[43m,\u001b[49m\u001b[43m \u001b[49m\u001b[43moptions_bytes\u001b[49m\u001b[43m,\u001b[49m\u001b[43m \u001b[49m\u001b[43mdevices\u001b[49m\u001b[43m,\u001b[49m\n\u001b[1;32m    535\u001b[0m \u001b[43m                \u001b[49m\u001b[43mcache_dir\u001b[49m\u001b[38;5;241;43m=\u001b[39;49m\u001b[43mcache_dir\u001b[49m\u001b[43m,\u001b[49m\u001b[43m \u001b[49m\u001b[43minclude_path\u001b[49m\u001b[38;5;241;43m=\u001b[39;49m\u001b[43minclude_path\u001b[49m\u001b[43m)\u001b[49m\u001b[43m,\u001b[49m\n\u001b[1;32m    536\u001b[0m \u001b[43m            \u001b[49m\u001b[43moptions_bytes\u001b[49m\u001b[38;5;241;43m=\u001b[39;49m\u001b[43moptions_bytes\u001b[49m\u001b[43m,\u001b[49m\u001b[43m \u001b[49m\u001b[43msource\u001b[49m\u001b[38;5;241;43m=\u001b[39;49m\u001b[38;5;28;43mself\u001b[39;49m\u001b[38;5;241;43m.\u001b[39;49m\u001b[43m_source\u001b[49m\u001b[43m)\u001b[49m\n\u001b[1;32m    538\u001b[0m     \u001b[38;5;28;01mif\u001b[39;00m was_cached:\n\u001b[1;32m    539\u001b[0m         build_descr \u001b[38;5;241m=\u001b[39m \u001b[38;5;124m\"\u001b[39m\u001b[38;5;124mcache retrieval\u001b[39m\u001b[38;5;124m\"\u001b[39m\n",
      "File \u001b[0;32m~/miniforge3/envs/tf-napari/lib/python3.10/site-packages/pyopencl/__init__.py:580\u001b[0m, in \u001b[0;36mProgram._build_and_catch_errors\u001b[0;34m(self, build_func, options_bytes, source)\u001b[0m\n\u001b[1;32m    572\u001b[0m     err \u001b[38;5;241m=\u001b[39m _cl\u001b[38;5;241m.\u001b[39mRuntimeError(\n\u001b[1;32m    573\u001b[0m             _cl\u001b[38;5;241m.\u001b[39m_ErrorRecord(\n\u001b[1;32m    574\u001b[0m                 msg\u001b[38;5;241m=\u001b[39mmsg,\n\u001b[1;32m    575\u001b[0m                 code\u001b[38;5;241m=\u001b[39mcode,\n\u001b[1;32m    576\u001b[0m                 routine\u001b[38;5;241m=\u001b[39mroutine))\n\u001b[1;32m    578\u001b[0m \u001b[38;5;66;03m# Python 3.2 outputs the whole list of currently active exceptions\u001b[39;00m\n\u001b[1;32m    579\u001b[0m \u001b[38;5;66;03m# This serves to remove one (redundant) level from that nesting.\u001b[39;00m\n\u001b[0;32m--> 580\u001b[0m \u001b[38;5;28;01mraise\u001b[39;00m err\n",
      "\u001b[0;31mRuntimeError\u001b[0m: clBuildProgram failed: BUILD_PROGRAM_FAILURE - clBuildProgram failed: BUILD_PROGRAM_FAILURE - clBuildProgram failed: BUILD_PROGRAM_FAILURE\n\nBuild on <pyopencl.Device 'Apple M1' on 'Apple' at 0x60000239cdc0>:\n\nCompiler encountered an internal error\n(options: -I /Users/jwhite/miniforge3/envs/tf-napari/lib/python3.10/site-packages/pyopencl/cl)\n(source saved as /var/folders/vg/pkq1xs_x1b559nk61kjgcgkh0000gn/T/tmpcsh6w4cq.cl)"
     ]
    }
   ],
   "source": [
    "statistics = label_statistics(image, \n",
    "                              exclude_labels_on_edges, \n",
    "                              intensity=True, \n",
    "                              size=False, \n",
    "                              shape=False, \n",
    "                              perimeter=False, \n",
    "                              position=False,\n",
    "                              moments=False\n",
    "                             )"
   ]
  },
  {
   "cell_type": "code",
   "execution_count": 12,
   "id": "7096224f-78e8-443b-8916-26ac47219eb9",
   "metadata": {},
   "outputs": [
    {
     "name": "stdout",
     "output_type": "stream",
     "text": [
      "#define MAX_ARRAY_SIZE 1000\n",
      "#define GET_IMAGE_WIDTH(image_key) image_size_ ## image_key ## _width\n",
      "#define GET_IMAGE_HEIGHT(image_key) image_size_ ## image_key ## _height\n",
      "#define GET_IMAGE_DEPTH(image_key) image_size_ ## image_key ## _depth\n",
      "\n",
      "#define CONVERT_dst_PIXEL_TYPE clij_convert_long_sat\n",
      "#define IMAGE_dst_PIXEL_TYPE long\n",
      "#define POS_dst_TYPE int2\n",
      "#define POS_dst_INSTANCE(pos0,pos1,pos2,pos3) (int2)(pos0, pos1)\n",
      "\n",
      "#define IMAGE_dst_TYPE int image_size_dst_width, int image_size_dst_height, int image_size_dst_depth,  __global long*\n",
      "#define READ_dst_IMAGE(a,b,c) read_buffer2dl(GET_IMAGE_WIDTH(a),GET_IMAGE_HEIGHT(a),GET_IMAGE_DEPTH(a),a,b,c)\n",
      "#define WRITE_dst_IMAGE(a,b,c) write_buffer2dl(GET_IMAGE_WIDTH(a),GET_IMAGE_HEIGHT(a),GET_IMAGE_DEPTH(a),a,b,c)\n",
      "\n",
      "\n",
      "#define CONVERT_src_PIXEL_TYPE clij_convert_uint_sat\n",
      "#define IMAGE_src_PIXEL_TYPE uint\n",
      "#define POS_src_TYPE int2\n",
      "#define POS_src_INSTANCE(pos0,pos1,pos2,pos3) (int2)(pos0, pos1)\n",
      "\n",
      "\u001b[K\u001b[?1l\u001b>olders/vg/pkq1xs_x1b559nk61kjgcgkh0000gn/T/tmp1cf74wqw.cl\u001b[m\u001b[K\u0007"
     ]
    }
   ],
   "source": [
    "! more /var/folders/vg/pkq1xs_x1b559nk61kjgcgkh0000gn/T/tmp1cf74wqw.cl"
   ]
  },
  {
   "cell_type": "code",
   "execution_count": null,
   "id": "da4b7252-b42b-41e8-b21e-d4c7dcf22262",
   "metadata": {},
   "outputs": [],
   "source": []
  }
 ],
 "metadata": {
  "kernelspec": {
   "display_name": "Python 3 (ipykernel)",
   "language": "python",
   "name": "python3"
  },
  "language_info": {
   "codemirror_mode": {
    "name": "ipython",
    "version": 3
   },
   "file_extension": ".py",
   "mimetype": "text/x-python",
   "name": "python",
   "nbconvert_exporter": "python",
   "pygments_lexer": "ipython3",
   "version": "3.10.8"
  }
 },
 "nbformat": 4,
 "nbformat_minor": 5
}
